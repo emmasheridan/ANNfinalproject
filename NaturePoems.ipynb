{
 "cells": [
  {
   "cell_type": "markdown",
   "metadata": {},
   "source": [
    "# Nature Poems"
   ]
  },
  {
   "cell_type": "code",
   "execution_count": 1,
   "metadata": {},
   "outputs": [
    {
     "name": "stderr",
     "output_type": "stream",
     "text": [
      "Using TensorFlow backend.\n"
     ]
    }
   ],
   "source": [
    "import numpy as np\n",
    "import pandas as pd \n",
    "#pd.set_option('display.max_columns', None)\n",
    "#pd.set_option('display.width', 1000)\n",
    "import random\n",
    "import sys\n",
    "import io\n",
    "from bs4 import BeautifulSoup\n",
    "from keras.callbacks import LambdaCallback\n",
    "from keras.models import Sequential\n",
    "from keras.layers import Dense, LSTM\n",
    "from keras.optimizers import RMSprop\n",
    "import requests as rq"
   ]
  },
  {
   "cell_type": "code",
   "execution_count": 2,
   "metadata": {},
   "outputs": [],
   "source": [
    "#extract the nature poems from first dataset\n",
    "df = pd.read_csv('poems.csv') # load dataset\n",
    "poems = df['content']\n",
    "naturePoems1 = poems.loc[df['type'] == 'Nature']"
   ]
  },
  {
   "cell_type": "code",
   "execution_count": 3,
   "metadata": {},
   "outputs": [
    {
     "data": {
      "text/plain": [
       "19    Why didst thou promise such a beauteous day,\\r...\n",
       "20    The welcome Sun from sea Freake is returned,\\r...\n",
       "21    I met a courtier riding on the plain,\\r\\nWell-...\n",
       "22    Walking the fields a wantcatcher I spied,\\r\\nT...\n",
       "23    Fishing, if I a fisher may protest,\\r\\nOf plea...\n",
       "Name: content, dtype: object"
      ]
     },
     "execution_count": 3,
     "metadata": {},
     "output_type": "execute_result"
    }
   ],
   "source": [
    "naturePoems1.head()"
   ]
  },
  {
   "cell_type": "code",
   "execution_count": 14,
   "metadata": {},
   "outputs": [
    {
     "data": {
      "text/html": [
       "<div>\n",
       "<style scoped>\n",
       "    .dataframe tbody tr th:only-of-type {\n",
       "        vertical-align: middle;\n",
       "    }\n",
       "\n",
       "    .dataframe tbody tr th {\n",
       "        vertical-align: top;\n",
       "    }\n",
       "\n",
       "    .dataframe thead th {\n",
       "        text-align: right;\n",
       "    }\n",
       "</style>\n",
       "<table border=\"1\" class=\"dataframe\">\n",
       "  <thead>\n",
       "    <tr style=\"text-align: right;\">\n",
       "      <th></th>\n",
       "      <th>Unnamed: 0</th>\n",
       "      <th>Title</th>\n",
       "      <th>Poem</th>\n",
       "      <th>Poet</th>\n",
       "      <th>Tags</th>\n",
       "    </tr>\n",
       "  </thead>\n",
       "  <tbody>\n",
       "    <tr>\n",
       "      <td>6</td>\n",
       "      <td>6</td>\n",
       "      <td>\\r\\r\\n                    Invisible Fish\\r\\r\\n...</td>\n",
       "      <td>\\r\\r\\nInvisible fish swim this ghost ocean now...</td>\n",
       "      <td>Joy Harjo</td>\n",
       "      <td>Living,Time &amp; Brevity,Relationships,Family &amp; A...</td>\n",
       "    </tr>\n",
       "    <tr>\n",
       "      <td>7</td>\n",
       "      <td>7</td>\n",
       "      <td>\\r\\r\\n                    Don’t Bother the Ear...</td>\n",
       "      <td>\\r\\r\\nDon’t bother the earth spirit who lives ...</td>\n",
       "      <td>Joy Harjo</td>\n",
       "      <td>Religion,The Spiritual,Mythology &amp; Folklore,Fa...</td>\n",
       "    </tr>\n",
       "    <tr>\n",
       "      <td>9</td>\n",
       "      <td>9</td>\n",
       "      <td>\\r\\r\\n                    [\"Hour in which I co...</td>\n",
       "      <td>\\r\\r\\nHour in which I consider hydrangea, a sa...</td>\n",
       "      <td>Simone White</td>\n",
       "      <td>Living,Parenthood,The Body,The Mind,Nature,Tre...</td>\n",
       "    </tr>\n",
       "    <tr>\n",
       "      <td>16</td>\n",
       "      <td>16</td>\n",
       "      <td>\\r\\r\\n                    scars\\r\\r\\n         ...</td>\n",
       "      <td>\\r\\r\\nmy father’s body is a map\\r\\r\\na record ...</td>\n",
       "      <td>Truong Tran</td>\n",
       "      <td>The Body,Family &amp; Ancestors</td>\n",
       "    </tr>\n",
       "    <tr>\n",
       "      <td>17</td>\n",
       "      <td>17</td>\n",
       "      <td>\\r\\r\\n                    what remains two\\r\\r...</td>\n",
       "      <td>\\r\\r\\nit has long been forgotten this practice...</td>\n",
       "      <td>Truong Tran</td>\n",
       "      <td>Infancy,Parenthood,The Body</td>\n",
       "    </tr>\n",
       "  </tbody>\n",
       "</table>\n",
       "</div>"
      ],
      "text/plain": [
       "    Unnamed: 0                                              Title  \\\n",
       "6            6  \\r\\r\\n                    Invisible Fish\\r\\r\\n...   \n",
       "7            7  \\r\\r\\n                    Don’t Bother the Ear...   \n",
       "9            9  \\r\\r\\n                    [\"Hour in which I co...   \n",
       "16          16  \\r\\r\\n                    scars\\r\\r\\n         ...   \n",
       "17          17  \\r\\r\\n                    what remains two\\r\\r...   \n",
       "\n",
       "                                                 Poem          Poet  \\\n",
       "6   \\r\\r\\nInvisible fish swim this ghost ocean now...     Joy Harjo   \n",
       "7   \\r\\r\\nDon’t bother the earth spirit who lives ...     Joy Harjo   \n",
       "9   \\r\\r\\nHour in which I consider hydrangea, a sa...  Simone White   \n",
       "16  \\r\\r\\nmy father’s body is a map\\r\\r\\na record ...   Truong Tran   \n",
       "17  \\r\\r\\nit has long been forgotten this practice...   Truong Tran   \n",
       "\n",
       "                                                 Tags  \n",
       "6   Living,Time & Brevity,Relationships,Family & A...  \n",
       "7   Religion,The Spiritual,Mythology & Folklore,Fa...  \n",
       "9   Living,Parenthood,The Body,The Mind,Nature,Tre...  \n",
       "16                        The Body,Family & Ancestors  \n",
       "17                        Infancy,Parenthood,The Body  "
      ]
     },
     "execution_count": 14,
     "metadata": {},
     "output_type": "execute_result"
    }
   ],
   "source": [
    "# loading additional nature poems from poetryfoundation.com dataset\n",
    "df2 = pd.read_csv('PoetryFoundationData.csv') # load dataset\n",
    "df2 = df2.dropna()\n",
    "df2.head() # getting top 5 head"
   ]
  },
  {
   "cell_type": "code",
   "execution_count": 15,
   "metadata": {},
   "outputs": [],
   "source": [
    "searchfor = ['Nature']"
   ]
  },
  {
   "cell_type": "code",
   "execution_count": 16,
   "metadata": {},
   "outputs": [],
   "source": [
    "# getting additional poems that contain the tag Love \n",
    "poems2 = df2['Poem']\n",
    "naturePoems2 = poems2.loc[df2['Tags'].str.contains('|'.join(searchfor))]"
   ]
  },
  {
   "cell_type": "code",
   "execution_count": 17,
   "metadata": {},
   "outputs": [
    {
     "data": {
      "text/plain": [
       "6      \\r\\r\\nInvisible fish swim this ghost ocean now...\n",
       "9      \\r\\r\\nHour in which I consider hydrangea, a sa...\n",
       "126    \\r\\r\\n\\r\\r\\n\\r\\r\\n\\r\\r\\nNYTimes headline for S...\n",
       "129    \\r\\r\\nAll that's left is the shroud\\r\\r\\n     ...\n",
       "186    \\r\\r\\nYou will leave your home:\\r\\r\\nnothing w...\n",
       "Name: Poem, dtype: object"
      ]
     },
     "execution_count": 17,
     "metadata": {},
     "output_type": "execute_result"
    }
   ],
   "source": [
    "naturePoems2.head()\n"
   ]
  },
  {
   "cell_type": "code",
   "execution_count": 18,
   "metadata": {},
   "outputs": [],
   "source": [
    "# concatenate lovePoems and lovePoems 2 to create more data\n",
    "naturePoems = naturePoems1 + naturePoems2\n"
   ]
  },
  {
   "cell_type": "code",
   "execution_count": 19,
   "metadata": {},
   "outputs": [],
   "source": [
    "#convert nature series to a string\n",
    "naturePoems = naturePoems.to_string()"
   ]
  },
  {
   "cell_type": "code",
   "execution_count": 20,
   "metadata": {},
   "outputs": [],
   "source": [
    "# MAPPING CHARACTERS: for nature poems, Make two dictionaries , one to convert chars to ints, the other to convert ints back to chars\n",
    "\n",
    "chars = sorted(list(set(naturePoems)))\n",
    "char_indices = dict((c, i) for i, c in enumerate(chars))\n",
    "indices_char = dict((i, c) for i, c in enumerate(chars))"
   ]
  },
  {
   "cell_type": "code",
   "execution_count": 21,
   "metadata": {},
   "outputs": [],
   "source": [
    "# process the dataset:\n",
    "seqlen = 50\n",
    "step = seqlen\n",
    "\n",
    "data_X = []\n",
    "data_y = []\n",
    "\n",
    "poemLines = [] \n",
    "\n",
    "# creates poem lines \n",
    "for i in range(0, len(naturePoems) - seqlen - 1, step):\n",
    "    poemLines.append(naturePoems[i: i + seqlen + 1])\n",
    "    \n",
    "# creating x and y data\n",
    "data_X = np.zeros((len(poemLines), seqlen, len(chars)), dtype=np.bool)\n",
    "data_Y = np.zeros((len(poemLines), seqlen, len(chars)), dtype=np.bool)\n",
    "\n",
    "for i, poemLines in enumerate(poemLines):\n",
    "    for t, (char_in, char_out) in enumerate(zip(poemLines[:-1], poemLines[1:])):\n",
    "        data_X[i, t, char_indices[char_in]] = 1\n",
    "        data_Y[i, t, char_indices[char_out]] = 1"
   ]
  },
  {
   "cell_type": "code",
   "execution_count": 22,
   "metadata": {},
   "outputs": [
    {
     "name": "stdout",
     "output_type": "stream",
     "text": [
      "Model: \"sequential_2\"\n",
      "_________________________________________________________________\n",
      "Layer (type)                 Output Shape              Param #   \n",
      "=================================================================\n",
      "lstm_2 (LSTM)                (None, 50, 128)           97280     \n",
      "_________________________________________________________________\n",
      "dense_2 (Dense)              (None, 50, 61)            7869      \n",
      "=================================================================\n",
      "Total params: 105,149\n",
      "Trainable params: 105,149\n",
      "Non-trainable params: 0\n",
      "_________________________________________________________________\n"
     ]
    }
   ],
   "source": [
    "# create the model\n",
    "model = Sequential()\n",
    "model.add(LSTM(128, input_shape=(seqlen, len(chars)), return_sequences=True))\n",
    "model.add(Dense(len(chars), activation='softmax'))\n",
    "\n",
    "model.compile(loss='categorical_crossentropy', optimizer=RMSprop(learning_rate=0.01), metrics=['categorical_crossentropy', 'accuracy'])\n",
    "model.summary()"
   ]
  },
  {
   "cell_type": "code",
   "execution_count": 23,
   "metadata": {},
   "outputs": [
    {
     "name": "stdout",
     "output_type": "stream",
     "text": [
      "Epoch 1/80\n",
      "4452/4452 [==============================] - 7s 2ms/step - loss: 0.9175 - categorical_crossentropy: 0.9175 - accuracy: 0.8332\n",
      "Epoch 2/80\n",
      "4452/4452 [==============================] - 6s 1ms/step - loss: 0.4222 - categorical_crossentropy: 0.4222 - accuracy: 0.8899\n",
      "Epoch 3/80\n",
      "4452/4452 [==============================] - 11s 2ms/step - loss: 0.3065 - categorical_crossentropy: 0.3065 - accuracy: 0.9156\n",
      "Epoch 4/80\n",
      "4452/4452 [==============================] - 10s 2ms/step - loss: 0.2755 - categorical_crossentropy: 0.2755 - accuracy: 0.9168\n",
      "Epoch 5/80\n",
      "4452/4452 [==============================] - 8s 2ms/step - loss: 0.2668 - categorical_crossentropy: 0.2668 - accuracy: 0.9174\n",
      "Epoch 6/80\n",
      "4452/4452 [==============================] - 7s 2ms/step - loss: 0.2601 - categorical_crossentropy: 0.2601 - accuracy: 0.9179\n",
      "Epoch 7/80\n",
      "4452/4452 [==============================] - 6s 1ms/step - loss: 0.2551 - categorical_crossentropy: 0.2551 - accuracy: 0.9183\n",
      "Epoch 8/80\n",
      "4452/4452 [==============================] - 9s 2ms/step - loss: 0.2530 - categorical_crossentropy: 0.2530 - accuracy: 0.9186\n",
      "Epoch 9/80\n",
      "4452/4452 [==============================] - 8s 2ms/step - loss: 0.2509 - categorical_crossentropy: 0.2509 - accuracy: 0.9189\n",
      "Epoch 10/80\n",
      "4452/4452 [==============================] - 9s 2ms/step - loss: 0.2490 - categorical_crossentropy: 0.2490 - accuracy: 0.9191\n",
      "Epoch 11/80\n",
      "4452/4452 [==============================] - 9s 2ms/step - loss: 0.2478 - categorical_crossentropy: 0.2478 - accuracy: 0.9197\n",
      "Epoch 12/80\n",
      "4452/4452 [==============================] - 9s 2ms/step - loss: 0.2460 - categorical_crossentropy: 0.2460 - accuracy: 0.9196\n",
      "Epoch 13/80\n",
      "4452/4452 [==============================] - 6s 1ms/step - loss: 0.2452 - categorical_crossentropy: 0.2452 - accuracy: 0.9199\n",
      "Epoch 14/80\n",
      "4452/4452 [==============================] - 6s 1ms/step - loss: 0.2442 - categorical_crossentropy: 0.2442 - accuracy: 0.9201\n",
      "Epoch 15/80\n",
      "4452/4452 [==============================] - 6s 1ms/step - loss: 0.2428 - categorical_crossentropy: 0.2428 - accuracy: 0.9204\n",
      "Epoch 16/80\n",
      "4452/4452 [==============================] - 7s 1ms/step - loss: 0.2416 - categorical_crossentropy: 0.2416 - accuracy: 0.9206\n",
      "Epoch 17/80\n",
      "4452/4452 [==============================] - 7s 1ms/step - loss: 0.2410 - categorical_crossentropy: 0.2410 - accuracy: 0.9207\n",
      "Epoch 18/80\n",
      "4452/4452 [==============================] - 6s 1ms/step - loss: 0.2400 - categorical_crossentropy: 0.2400 - accuracy: 0.9212\n",
      "Epoch 19/80\n",
      "4452/4452 [==============================] - 7s 1ms/step - loss: 0.2392 - categorical_crossentropy: 0.2392 - accuracy: 0.9214\n",
      "Epoch 20/80\n",
      "4452/4452 [==============================] - 6s 1ms/step - loss: 0.2377 - categorical_crossentropy: 0.2377 - accuracy: 0.9219\n",
      "Epoch 21/80\n",
      "4452/4452 [==============================] - 6s 1ms/step - loss: 0.2375 - categorical_crossentropy: 0.2375 - accuracy: 0.9219\n",
      "Epoch 22/80\n",
      "4452/4452 [==============================] - 6s 1ms/step - loss: 0.2364 - categorical_crossentropy: 0.2364 - accuracy: 0.9225\n",
      "Epoch 23/80\n",
      "4452/4452 [==============================] - 6s 1ms/step - loss: 0.2355 - categorical_crossentropy: 0.2355 - accuracy: 0.9225\n",
      "Epoch 24/80\n",
      "4452/4452 [==============================] - 7s 2ms/step - loss: 0.2352 - categorical_crossentropy: 0.2352 - accuracy: 0.9226\n",
      "Epoch 25/80\n",
      "4452/4452 [==============================] - 8s 2ms/step - loss: 0.2342 - categorical_crossentropy: 0.2342 - accuracy: 0.9229\n",
      "Epoch 26/80\n",
      "4452/4452 [==============================] - 6s 1ms/step - loss: 0.2339 - categorical_crossentropy: 0.2339 - accuracy: 0.9232\n",
      "Epoch 27/80\n",
      "4452/4452 [==============================] - 7s 1ms/step - loss: 0.2334 - categorical_crossentropy: 0.2334 - accuracy: 0.9236\n",
      "Epoch 28/80\n",
      "4452/4452 [==============================] - 6s 1ms/step - loss: 0.2326 - categorical_crossentropy: 0.2326 - accuracy: 0.9235\n",
      "Epoch 29/80\n",
      "4452/4452 [==============================] - 6s 1ms/step - loss: 0.2323 - categorical_crossentropy: 0.2323 - accuracy: 0.9236\n",
      "Epoch 30/80\n",
      "4452/4452 [==============================] - 6s 1ms/step - loss: 0.2317 - categorical_crossentropy: 0.2317 - accuracy: 0.9237\n",
      "Epoch 31/80\n",
      "4452/4452 [==============================] - 6s 1ms/step - loss: 0.2316 - categorical_crossentropy: 0.2316 - accuracy: 0.9239\n",
      "Epoch 32/80\n",
      "4452/4452 [==============================] - 6s 1ms/step - loss: 0.2310 - categorical_crossentropy: 0.2310 - accuracy: 0.9240\n",
      "Epoch 33/80\n",
      "4452/4452 [==============================] - 6s 1ms/step - loss: 0.2307 - categorical_crossentropy: 0.2307 - accuracy: 0.9239\n",
      "Epoch 34/80\n",
      "4452/4452 [==============================] - 6s 1ms/step - loss: 0.2301 - categorical_crossentropy: 0.2301 - accuracy: 0.9244\n",
      "Epoch 35/80\n",
      "4452/4452 [==============================] - 6s 1ms/step - loss: 0.2295 - categorical_crossentropy: 0.2295 - accuracy: 0.9244\n",
      "Epoch 36/80\n",
      "4452/4452 [==============================] - 7s 2ms/step - loss: 0.2294 - categorical_crossentropy: 0.2294 - accuracy: 0.9248\n",
      "Epoch 37/80\n",
      "4452/4452 [==============================] - 8s 2ms/step - loss: 0.2291 - categorical_crossentropy: 0.2291 - accuracy: 0.9249\n",
      "Epoch 38/80\n",
      "4452/4452 [==============================] - 6s 1ms/step - loss: 0.2285 - categorical_crossentropy: 0.2285 - accuracy: 0.9249\n",
      "Epoch 39/80\n",
      "4452/4452 [==============================] - 6s 1ms/step - loss: 0.2279 - categorical_crossentropy: 0.2279 - accuracy: 0.9250\n",
      "Epoch 40/80\n",
      "4452/4452 [==============================] - 6s 1ms/step - loss: 0.2275 - categorical_crossentropy: 0.2275 - accuracy: 0.9254\n",
      "Epoch 41/80\n",
      "4452/4452 [==============================] - 6s 1ms/step - loss: 0.2269 - categorical_crossentropy: 0.2269 - accuracy: 0.9254\n",
      "Epoch 42/80\n",
      "4452/4452 [==============================] - 6s 1ms/step - loss: 0.2266 - categorical_crossentropy: 0.2266 - accuracy: 0.9254\n",
      "Epoch 43/80\n",
      "4452/4452 [==============================] - 6s 1ms/step - loss: 0.2259 - categorical_crossentropy: 0.2259 - accuracy: 0.9261\n",
      "Epoch 44/80\n",
      "4452/4452 [==============================] - 6s 1ms/step - loss: 0.2256 - categorical_crossentropy: 0.2256 - accuracy: 0.9260\n",
      "Epoch 45/80\n",
      "4452/4452 [==============================] - 6s 1ms/step - loss: 0.2251 - categorical_crossentropy: 0.2251 - accuracy: 0.9265\n",
      "Epoch 46/80\n",
      "4452/4452 [==============================] - 6s 1ms/step - loss: 0.2247 - categorical_crossentropy: 0.2247 - accuracy: 0.9264\n",
      "Epoch 47/80\n",
      "4452/4452 [==============================] - 6s 1ms/step - loss: 0.2240 - categorical_crossentropy: 0.2240 - accuracy: 0.9266\n",
      "Epoch 48/80\n",
      "4452/4452 [==============================] - 6s 1ms/step - loss: 0.2238 - categorical_crossentropy: 0.2238 - accuracy: 0.9264\n",
      "Epoch 49/80\n",
      "4452/4452 [==============================] - 6s 1ms/step - loss: 0.2232 - categorical_crossentropy: 0.2232 - accuracy: 0.9271\n",
      "Epoch 50/80\n",
      "4452/4452 [==============================] - 9s 2ms/step - loss: 0.2225 - categorical_crossentropy: 0.2225 - accuracy: 0.9273\n",
      "Epoch 51/80\n",
      "4452/4452 [==============================] - 7s 1ms/step - loss: 0.2221 - categorical_crossentropy: 0.2221 - accuracy: 0.9274\n",
      "Epoch 52/80\n",
      "4452/4452 [==============================] - 6s 1ms/step - loss: 0.2215 - categorical_crossentropy: 0.2215 - accuracy: 0.9274\n",
      "Epoch 53/80\n",
      "4452/4452 [==============================] - 6s 1ms/step - loss: 0.2213 - categorical_crossentropy: 0.2213 - accuracy: 0.9274\n",
      "Epoch 54/80\n",
      "4452/4452 [==============================] - 6s 1ms/step - loss: 0.2205 - categorical_crossentropy: 0.2205 - accuracy: 0.9278\n",
      "Epoch 55/80\n",
      "4452/4452 [==============================] - 6s 1ms/step - loss: 0.2201 - categorical_crossentropy: 0.2201 - accuracy: 0.9281\n",
      "Epoch 56/80\n",
      "4452/4452 [==============================] - 6s 1ms/step - loss: 0.2198 - categorical_crossentropy: 0.2198 - accuracy: 0.9283\n",
      "Epoch 57/80\n",
      "4452/4452 [==============================] - 6s 1ms/step - loss: 0.2190 - categorical_crossentropy: 0.2190 - accuracy: 0.9285\n",
      "Epoch 58/80\n",
      "4452/4452 [==============================] - 7s 1ms/step - loss: 0.2186 - categorical_crossentropy: 0.2186 - accuracy: 0.9286\n",
      "Epoch 59/80\n",
      "4452/4452 [==============================] - 6s 1ms/step - loss: 0.2181 - categorical_crossentropy: 0.2181 - accuracy: 0.9289\n",
      "Epoch 60/80\n"
     ]
    },
    {
     "name": "stdout",
     "output_type": "stream",
     "text": [
      "4452/4452 [==============================] - 8s 2ms/step - loss: 0.2176 - categorical_crossentropy: 0.2176 - accuracy: 0.9289\n",
      "Epoch 61/80\n",
      "4452/4452 [==============================] - 7s 1ms/step - loss: 0.2173 - categorical_crossentropy: 0.2173 - accuracy: 0.9291\n",
      "Epoch 62/80\n",
      "4452/4452 [==============================] - 11s 2ms/step - loss: 0.2168 - categorical_crossentropy: 0.2168 - accuracy: 0.9294\n",
      "Epoch 63/80\n",
      "4452/4452 [==============================] - 8s 2ms/step - loss: 0.2165 - categorical_crossentropy: 0.2165 - accuracy: 0.9292\n",
      "Epoch 64/80\n",
      "4452/4452 [==============================] - 11s 2ms/step - loss: 0.2159 - categorical_crossentropy: 0.2159 - accuracy: 0.9294\n",
      "Epoch 65/80\n",
      "4452/4452 [==============================] - 8s 2ms/step - loss: 0.2155 - categorical_crossentropy: 0.2155 - accuracy: 0.9295\n",
      "Epoch 66/80\n",
      "4452/4452 [==============================] - 11s 2ms/step - loss: 0.2147 - categorical_crossentropy: 0.2147 - accuracy: 0.9297\n",
      "Epoch 67/80\n",
      "4452/4452 [==============================] - 13s 3ms/step - loss: 0.2145 - categorical_crossentropy: 0.2145 - accuracy: 0.9301\n",
      "Epoch 68/80\n",
      "4452/4452 [==============================] - 9s 2ms/step - loss: 0.2143 - categorical_crossentropy: 0.2143 - accuracy: 0.9300\n",
      "Epoch 69/80\n",
      "4452/4452 [==============================] - 9s 2ms/step - loss: 0.2134 - categorical_crossentropy: 0.2134 - accuracy: 0.9302\n",
      "Epoch 70/80\n",
      "4452/4452 [==============================] - 6s 1ms/step - loss: 0.2130 - categorical_crossentropy: 0.2130 - accuracy: 0.9305\n",
      "Epoch 71/80\n",
      "4452/4452 [==============================] - 7s 2ms/step - loss: 0.2124 - categorical_crossentropy: 0.2124 - accuracy: 0.9307\n",
      "Epoch 72/80\n",
      "4452/4452 [==============================] - 6s 1ms/step - loss: 0.2123 - categorical_crossentropy: 0.2123 - accuracy: 0.9305\n",
      "Epoch 73/80\n",
      "4452/4452 [==============================] - 7s 1ms/step - loss: 0.2115 - categorical_crossentropy: 0.2115 - accuracy: 0.9309\n",
      "Epoch 74/80\n",
      "4452/4452 [==============================] - 6s 1ms/step - loss: 0.2114 - categorical_crossentropy: 0.2114 - accuracy: 0.9309\n",
      "Epoch 75/80\n",
      "4452/4452 [==============================] - 8s 2ms/step - loss: 0.2107 - categorical_crossentropy: 0.2107 - accuracy: 0.9310\n",
      "Epoch 76/80\n",
      "4452/4452 [==============================] - 8s 2ms/step - loss: 0.2104 - categorical_crossentropy: 0.2104 - accuracy: 0.9312\n",
      "Epoch 77/80\n",
      "4452/4452 [==============================] - 6s 1ms/step - loss: 0.2098 - categorical_crossentropy: 0.2098 - accuracy: 0.9314\n",
      "Epoch 78/80\n",
      "4452/4452 [==============================] - 7s 1ms/step - loss: 0.2109 - categorical_crossentropy: 0.2109 - accuracy: 0.9316\n",
      "Epoch 79/80\n",
      "4452/4452 [==============================] - 6s 1ms/step - loss: 0.2088 - categorical_crossentropy: 0.2088 - accuracy: 0.9317\n",
      "Epoch 80/80\n",
      "4452/4452 [==============================] - 6s 1ms/step - loss: 0.2089 - categorical_crossentropy: 0.2089 - accuracy: 0.9315\n"
     ]
    },
    {
     "data": {
      "text/plain": [
       "<keras.callbacks.callbacks.History at 0x63b352a10>"
      ]
     },
     "execution_count": 23,
     "metadata": {},
     "output_type": "execute_result"
    }
   ],
   "source": [
    "# train the model\n",
    "model.fit(data_X, data_Y, batch_size=128, epochs=80)"
   ]
  },
  {
   "cell_type": "code",
   "execution_count": 24,
   "metadata": {},
   "outputs": [],
   "source": [
    "def sample(preds, temperature=1.0):\n",
    "    \"\"\"Helper function to sample an index from a probability array.\"\"\"\n",
    "    preds = np.asarray(preds).astype('float64')\n",
    "    preds = np.exp(np.log(preds) / temperature)  # softmax\n",
    "    preds = preds / np.sum(preds)                #\n",
    "    probas = np.random.multinomial(1, preds, 1)  # sample index\n",
    "    return np.argmax(probas)  "
   ]
  },
  {
   "cell_type": "code",
   "execution_count": 25,
   "metadata": {},
   "outputs": [],
   "source": [
    "def generating_poem(epoch, start_index, diversity, _):\n",
    "    \"\"\"Function invoked at end of each epoch. Prints generated text.\"\"\"\n",
    "    print()\n",
    "    print('----- Generating text after Epoch: %d' % epoch)\n",
    "\n",
    "    start_index = start_index\n",
    "    diversity = diversity\n",
    "\n",
    "    generated = ''\n",
    "    poemLines = naturePoems[start_index: start_index + seqlen]\n",
    "    generated += poemLines\n",
    "    print('----- Generating with seed: \"' + poemLines + '\"')\n",
    "    sys.stdout.write(generated)\n",
    "\n",
    "    for i in range(400):\n",
    "        x_pred = np.zeros((1, seqlen, len(chars)))\n",
    "        for t, char in enumerate(poemLines):\n",
    "            x_pred[0, t, char_indices[char]] = 1.\n",
    "            \n",
    "        preds = model.predict(x_pred, verbose=0)\n",
    "        next_index = sample(preds[0, -1], diversity)\n",
    "        next_char = indices_char[next_index]\n",
    "\n",
    "        poemLines = poemLines[1:] + next_char\n",
    "\n",
    "        sys.stdout.write(next_char)\n",
    "        sys.stdout.flush()\n",
    "    print()"
   ]
  },
  {
   "cell_type": "code",
   "execution_count": 28,
   "metadata": {},
   "outputs": [
    {
     "name": "stdout",
     "output_type": "stream",
     "text": [
      "\n",
      "----- Generating text after Epoch: 80\n",
      "----- Generating with seed: \"              NaN\n",
      "19                              \"\n",
      "              NaN\n",
      "19                                                                                                NaN\n",
      "12305                                                                                                                              NaN\n",
      "5993                                                                                                                                                         NaN\n",
      "12624                             \n"
     ]
    }
   ],
   "source": [
    "generating_poem(80, 100, .25, _)"
   ]
  },
  {
   "cell_type": "code",
   "execution_count": null,
   "metadata": {},
   "outputs": [],
   "source": []
  }
 ],
 "metadata": {
  "kernelspec": {
   "display_name": "Python 3",
   "language": "python",
   "name": "python3"
  },
  "language_info": {
   "codemirror_mode": {
    "name": "ipython",
    "version": 3
   },
   "file_extension": ".py",
   "mimetype": "text/x-python",
   "name": "python",
   "nbconvert_exporter": "python",
   "pygments_lexer": "ipython3",
   "version": "3.7.4"
  }
 },
 "nbformat": 4,
 "nbformat_minor": 2
}
