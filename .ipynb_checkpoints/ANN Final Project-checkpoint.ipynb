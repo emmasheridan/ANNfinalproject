{
 "cells": [
  {
   "cell_type": "markdown",
   "metadata": {},
   "source": [
    "# ANN Final Project: Poem Generation"
   ]
  },
  {
   "cell_type": "markdown",
   "metadata": {},
   "source": [
    "Emma Sheridan and Jessica Petersen"
   ]
  },
  {
   "cell_type": "code",
   "execution_count": 46,
   "metadata": {},
   "outputs": [],
   "source": [
    "import numpy as np\n",
    "import pandas as pd \n",
    "import random\n",
    "import sys\n",
    "import io\n",
    "from bs4 import BeautifulSoup\n",
    "from keras.callbacks import LambdaCallback\n",
    "from keras.models import Sequential\n",
    "from keras.layers import Dense, LSTM\n",
    "from keras.optimizers import RMSprop\n",
    "import requests as rq\n",
    "import matplotlib.pyplot as plt"
   ]
  },
  {
   "cell_type": "markdown",
   "metadata": {},
   "source": [
    "### Cleaning the data"
   ]
  },
  {
   "cell_type": "code",
   "execution_count": 20,
   "metadata": {},
   "outputs": [
    {
     "data": {
      "text/html": [
       "<div>\n",
       "<style scoped>\n",
       "    .dataframe tbody tr th:only-of-type {\n",
       "        vertical-align: middle;\n",
       "    }\n",
       "\n",
       "    .dataframe tbody tr th {\n",
       "        vertical-align: top;\n",
       "    }\n",
       "\n",
       "    .dataframe thead th {\n",
       "        text-align: right;\n",
       "    }\n",
       "</style>\n",
       "<table border=\"1\" class=\"dataframe\">\n",
       "  <thead>\n",
       "    <tr style=\"text-align: right;\">\n",
       "      <th></th>\n",
       "      <th>Unnamed: 0</th>\n",
       "      <th>Title</th>\n",
       "      <th>Poem</th>\n",
       "      <th>Poet</th>\n",
       "      <th>Tags</th>\n",
       "    </tr>\n",
       "  </thead>\n",
       "  <tbody>\n",
       "    <tr>\n",
       "      <td>6</td>\n",
       "      <td>6</td>\n",
       "      <td>\\r\\r\\n                    Invisible Fish\\r\\r\\n</td>\n",
       "      <td>\\r\\r\\nInvisible fish swim this ghost ocean now described by waves of sand, by water-worn rock. Soon the fish will learn to walk. Then humans will come ashore and paint dreams on the dying stone. Then later, much later, the ocean floor will be punctuated by Chevy trucks, carrying the dreamers’ decendants, who are going to the store.\\r\\r\\n</td>\n",
       "      <td>Joy Harjo</td>\n",
       "      <td>Living,Time &amp; Brevity,Relationships,Family &amp; Ancestors,Nature,Landscapes &amp; Pastorals,Seas, Rivers, &amp; Streams,Social Commentaries,History &amp; Politics</td>\n",
       "    </tr>\n",
       "    <tr>\n",
       "      <td>7</td>\n",
       "      <td>7</td>\n",
       "      <td>\\r\\r\\n                    Don’t Bother the Earth Spirit\\r\\r\\n</td>\n",
       "      <td>\\r\\r\\nDon’t bother the earth spirit who lives here. She is working on a story. It is the oldest story in the world and it is delicate, changing. If she sees you watching she will invite you in for coffee, give you warm bread, and you will be obligated to stay and listen. But this is no ordinary story. You will have to endure earthquakes, lightning, the deaths of all those you love, the most blinding beauty. It’s a story so compelling you may never want to leave; this is how she traps you. See that stone finger over there? That is the only one who ever escaped.\\r\\r\\n</td>\n",
       "      <td>Joy Harjo</td>\n",
       "      <td>Religion,The Spiritual,Mythology &amp; Folklore,Fairy-tales &amp; Legends</td>\n",
       "    </tr>\n",
       "    <tr>\n",
       "      <td>9</td>\n",
       "      <td>9</td>\n",
       "      <td>\\r\\r\\n                    [\"Hour in which I consider hydrangea\"]\\r\\r\\n</td>\n",
       "      <td>\\r\\r\\nHour in which I consider hydrangea, a salt or sand plant, varietal, the question of varietals, the diet of every mother I know, 5 pounds feels like 20, I have lost … I have lost, yes, a sense of my own possible beauty, grown external, I externalize beauty. Beauty occurs on the surface of plants; the sun darkens the skin of my child, he is so small, he is beautiful (I can see; it is obvious) and everything about him is beautiful. His hand swells from the bite [spread?] of some insect[’s] venom because he is small. He appears to feel nothing. He smashes his skull against the floor. He screams. I hold him in my lap on the kitchen floor in front of an open freezer, pressing a pack of frozen clay against his forehead. He likes the cold. I see; it is so obvious. Hydrangea. When I move, when I walk pushing my child’s stroller (it is both walking and pushing or hauling, sometimes, also, lifting; it is having another body, an adjunct body composed of errand and weight and tenderness a...</td>\n",
       "      <td>Simone White</td>\n",
       "      <td>Living,Parenthood,The Body,The Mind,Nature,Trees &amp; Flowers</td>\n",
       "    </tr>\n",
       "    <tr>\n",
       "      <td>16</td>\n",
       "      <td>16</td>\n",
       "      <td>\\r\\r\\n                    scars\\r\\r\\n</td>\n",
       "      <td>\\r\\r\\nmy father’s body is a map\\r\\r\\na record of his journey\\r\\r\\n \\r\\r\\nhe carries a bullet\\r\\r\\nlodged in his left thigh\\r\\r\\nthere is a hollow where it entered\\r\\r\\na protruding bump where it sleeps\\r\\r\\nthe doctors say it will never awaken\\r\\r\\n \\r\\r\\nit is the one souvenir he insists on keeping\\r\\r\\nmother has her own opinionsbố cùa con điên—your father is crazy\\r\\r\\n \\r\\r\\nas a child\\r\\r\\ni wanted a scar just like my father’s\\r\\r\\nbold and appalling     a mushroom explosion\\r\\r\\nthat said i too was at war\\r\\r\\ninstead i settled for a grain of rice\\r\\r\\na scar so small look closely there\\r\\r\\nhere between the eyes\\r\\r\\na bit to the right\\r\\r\\nthere on the bridge of my nose\\r\\r\\n \\r\\r\\nfather says i was too young to remember\\r\\r\\nit happened while i was sleeping\\r\\r\\nleaking roof the pounding rain\\r\\r\\ndrop after drop after drop\\r\\r\\n \\r\\r\\n</td>\n",
       "      <td>Truong Tran</td>\n",
       "      <td>The Body,Family &amp; Ancestors</td>\n",
       "    </tr>\n",
       "    <tr>\n",
       "      <td>17</td>\n",
       "      <td>17</td>\n",
       "      <td>\\r\\r\\n                    what remains two\\r\\r\\n</td>\n",
       "      <td>\\r\\r\\nit has long been forgotten this practice of the mother\\r\\r\\nweaning a child she crushes the seeds of a green\\r\\r\\nchili rubs it to her nipple what the child feels\\r\\r\\nshe too will   share in this act   of love\\r\\r\\nmy own mother says it was not meant\\r\\r\\nto be cruel when cruelty she tells me\\r\\r\\nis a child’s lips   torn from breast as proof\\r\\r\\nback home the women wear teeth marks\\r\\r\\n \\r\\r\\n</td>\n",
       "      <td>Truong Tran</td>\n",
       "      <td>Infancy,Parenthood,The Body</td>\n",
       "    </tr>\n",
       "  </tbody>\n",
       "</table>\n",
       "</div>"
      ],
      "text/plain": [
       "    Unnamed: 0  \\\n",
       "6            6   \n",
       "7            7   \n",
       "9            9   \n",
       "16          16   \n",
       "17          17   \n",
       "\n",
       "                                                                                     Title  \\\n",
       "6                           \\r\\r\\n                    Invisible Fish\\r\\r\\n                   \n",
       "7            \\r\\r\\n                    Don’t Bother the Earth Spirit\\r\\r\\n                   \n",
       "9   \\r\\r\\n                    [\"Hour in which I consider hydrangea\"]\\r\\r\\n                   \n",
       "16                                   \\r\\r\\n                    scars\\r\\r\\n                   \n",
       "17                        \\r\\r\\n                    what remains two\\r\\r\\n                   \n",
       "\n",
       "                                                                                                                                                                                                                                                                                                                                                                                                                                                                                                                                                                                                                                                                                                                                                                                                                                                                                                                                                                                                                                       Poem  \\\n",
       "6                                                                                                                                                                                                                                                                                                                                                                                                                                                                                                                                                                                                                                                                                       \\r\\r\\nInvisible fish swim this ghost ocean now described by waves of sand, by water-worn rock. Soon the fish will learn to walk. Then humans will come ashore and paint dreams on the dying stone. Then later, much later, the ocean floor will be punctuated by Chevy trucks, carrying the dreamers’ decendants, who are going to the store.\\r\\r\\n   \n",
       "7                                                                                                                                                                                                                                                                                                                                                                                                                                              \\r\\r\\nDon’t bother the earth spirit who lives here. She is working on a story. It is the oldest story in the world and it is delicate, changing. If she sees you watching she will invite you in for coffee, give you warm bread, and you will be obligated to stay and listen. But this is no ordinary story. You will have to endure earthquakes, lightning, the deaths of all those you love, the most blinding beauty. It’s a story so compelling you may never want to leave; this is how she traps you. See that stone finger over there? That is the only one who ever escaped.\\r\\r\\n   \n",
       "9   \\r\\r\\nHour in which I consider hydrangea, a salt or sand plant, varietal, the question of varietals, the diet of every mother I know, 5 pounds feels like 20, I have lost … I have lost, yes, a sense of my own possible beauty, grown external, I externalize beauty. Beauty occurs on the surface of plants; the sun darkens the skin of my child, he is so small, he is beautiful (I can see; it is obvious) and everything about him is beautiful. His hand swells from the bite [spread?] of some insect[’s] venom because he is small. He appears to feel nothing. He smashes his skull against the floor. He screams. I hold him in my lap on the kitchen floor in front of an open freezer, pressing a pack of frozen clay against his forehead. He likes the cold. I see; it is so obvious. Hydrangea. When I move, when I walk pushing my child’s stroller (it is both walking and pushing or hauling, sometimes, also, lifting; it is having another body, an adjunct body composed of errand and weight and tenderness a...   \n",
       "16                                                                                                                                                \\r\\r\\nmy father’s body is a map\\r\\r\\na record of his journey\\r\\r\\n \\r\\r\\nhe carries a bullet\\r\\r\\nlodged in his left thigh\\r\\r\\nthere is a hollow where it entered\\r\\r\\na protruding bump where it sleeps\\r\\r\\nthe doctors say it will never awaken\\r\\r\\n \\r\\r\\nit is the one souvenir he insists on keeping\\r\\r\\nmother has her own opinionsbố cùa con điên—your father is crazy\\r\\r\\n \\r\\r\\nas a child\\r\\r\\ni wanted a scar just like my father’s\\r\\r\\nbold and appalling     a mushroom explosion\\r\\r\\nthat said i too was at war\\r\\r\\ninstead i settled for a grain of rice\\r\\r\\na scar so small look closely there\\r\\r\\nhere between the eyes\\r\\r\\na bit to the right\\r\\r\\nthere on the bridge of my nose\\r\\r\\n \\r\\r\\nfather says i was too young to remember\\r\\r\\nit happened while i was sleeping\\r\\r\\nleaking roof the pounding rain\\r\\r\\ndrop after drop after drop\\r\\r\\n \\r\\r\\n   \n",
       "17                                                                                                                                                                                                                                                                                                                                                                                                                                                                                                                                                                                                                   \\r\\r\\nit has long been forgotten this practice of the mother\\r\\r\\nweaning a child she crushes the seeds of a green\\r\\r\\nchili rubs it to her nipple what the child feels\\r\\r\\nshe too will   share in this act   of love\\r\\r\\nmy own mother says it was not meant\\r\\r\\nto be cruel when cruelty she tells me\\r\\r\\nis a child’s lips   torn from breast as proof\\r\\r\\nback home the women wear teeth marks\\r\\r\\n \\r\\r\\n   \n",
       "\n",
       "            Poet  \\\n",
       "6      Joy Harjo   \n",
       "7      Joy Harjo   \n",
       "9   Simone White   \n",
       "16   Truong Tran   \n",
       "17   Truong Tran   \n",
       "\n",
       "                                                                                                                                                   Tags  \n",
       "6   Living,Time & Brevity,Relationships,Family & Ancestors,Nature,Landscapes & Pastorals,Seas, Rivers, & Streams,Social Commentaries,History & Politics  \n",
       "7                                                                                     Religion,The Spiritual,Mythology & Folklore,Fairy-tales & Legends  \n",
       "9                                                                                            Living,Parenthood,The Body,The Mind,Nature,Trees & Flowers  \n",
       "16                                                                                                                          The Body,Family & Ancestors  \n",
       "17                                                                                                                          Infancy,Parenthood,The Body  "
      ]
     },
     "execution_count": 20,
     "metadata": {},
     "output_type": "execute_result"
    }
   ],
   "source": [
    "pd.options.display.max_colwidth = 1000 # include 1000 characters from each poem \n",
    "df = pd.read_csv('PoetryFoundationData.csv') # load dataset from poetryfoundation.com dataset\n",
    "df = df.dropna() # dropping any entries with no tags \n",
    "df.head() # getting top 5 head"
   ]
  },
  {
   "cell_type": "code",
   "execution_count": 40,
   "metadata": {},
   "outputs": [
    {
     "name": "stdout",
     "output_type": "stream",
     "text": [
      "Number of Poems: 2130\n"
     ]
    }
   ],
   "source": [
    "# getting poems that contain the tag Love\n",
    "poems = df['Poem']\n",
    "searchfor = ['Love']\n",
    "lovePoems = poems.loc[df['Tags'].str.contains('|'.join(searchfor))] \n",
    "print(\"Number of Poems: \" + str(len(lovePoems)))\n",
    "lovePoems = lovePoems.to_string()"
   ]
  },
  {
   "cell_type": "markdown",
   "metadata": {},
   "source": [
    "### Preparing Training Data"
   ]
  },
  {
   "cell_type": "code",
   "execution_count": 41,
   "metadata": {},
   "outputs": [],
   "source": [
    "# MAPPING CHARACTERS: for love poems, Make two dictionaries , one to convert chars to ints, the other to convert ints back to chars\n",
    "\n",
    "chars = sorted(list(set(lovePoems)))\n",
    "char_indices = dict((c, i) for i, c in enumerate(chars))\n",
    "indices_char = dict((i, c) for i, c in enumerate(chars))"
   ]
  },
  {
   "cell_type": "code",
   "execution_count": 42,
   "metadata": {},
   "outputs": [],
   "source": [
    "# process the dataset:\n",
    "seqlen = 50\n",
    "step = seqlen\n",
    "\n",
    "data_X = []\n",
    "data_y = []\n",
    "\n",
    "poemLines = [] \n",
    "\n",
    "# creates poem lines \n",
    "for i in range(0, len(lovePoems) - seqlen - 1, step):\n",
    "    poemLines.append(lovePoems[i: i + seqlen + 1])\n",
    "    \n",
    "# creating x and y data\n",
    "data_X = np.zeros((len(poemLines), seqlen, len(chars)), dtype=np.bool)\n",
    "data_Y = np.zeros((len(poemLines), seqlen, len(chars)), dtype=np.bool)\n",
    "\n",
    "for i, poemLines in enumerate(poemLines):\n",
    "    for t, (char_in, char_out) in enumerate(zip(poemLines[:-1], poemLines[1:])):\n",
    "        data_X[i, t, char_indices[char_in]] = 1\n",
    "        data_Y[i, t, char_indices[char_out]] = 1"
   ]
  },
  {
   "cell_type": "markdown",
   "metadata": {},
   "source": [
    "### Model Creation"
   ]
  },
  {
   "cell_type": "code",
   "execution_count": 50,
   "metadata": {},
   "outputs": [
    {
     "name": "stdout",
     "output_type": "stream",
     "text": [
      "Model: \"sequential_6\"\n",
      "_________________________________________________________________\n",
      "Layer (type)                 Output Shape              Param #   \n",
      "=================================================================\n",
      "lstm_6 (LSTM)                (None, 50, 80)            70080     \n",
      "_________________________________________________________________\n",
      "dense_6 (Dense)              (None, 50, 138)           11178     \n",
      "=================================================================\n",
      "Total params: 81,258\n",
      "Trainable params: 81,258\n",
      "Non-trainable params: 0\n",
      "_________________________________________________________________\n"
     ]
    }
   ],
   "source": [
    "# create the model\n",
    "model = Sequential()\n",
    "model.add(LSTM(80, input_shape=(seqlen, len(chars)), return_sequences=True))\n",
    "model.add(Dense(len(chars), activation='softmax'))\n",
    "\n",
    "model.compile(loss='categorical_crossentropy', optimizer=RMSprop(learning_rate=0.01), metrics=['categorical_crossentropy', 'accuracy'])\n",
    "model.summary()"
   ]
  },
  {
   "cell_type": "code",
   "execution_count": 52,
   "metadata": {},
   "outputs": [
    {
     "name": "stdout",
     "output_type": "stream",
     "text": [
      "Train on 28798 samples, validate on 14185 samples\n",
      "Epoch 1/10\n",
      "28798/28798 [==============================] - 52s 2ms/step - loss: 1.9350 - categorical_crossentropy: 1.9350 - accuracy: 0.4770 - val_loss: 1.5052 - val_categorical_crossentropy: 1.5052 - val_accuracy: 0.5719\n",
      "Epoch 2/10\n",
      "28798/28798 [==============================] - 52s 2ms/step - loss: 1.5037 - categorical_crossentropy: 1.5037 - accuracy: 0.5674 - val_loss: 1.3933 - val_categorical_crossentropy: 1.3933 - val_accuracy: 0.6012\n",
      "Epoch 3/10\n",
      "28798/28798 [==============================] - 49s 2ms/step - loss: 1.4157 - categorical_crossentropy: 1.4157 - accuracy: 0.5902 - val_loss: 1.3424 - val_categorical_crossentropy: 1.3424 - val_accuracy: 0.6163\n",
      "Epoch 4/10\n",
      "28798/28798 [==============================] - 54s 2ms/step - loss: 1.3723 - categorical_crossentropy: 1.3723 - accuracy: 0.6013 - val_loss: 1.3136 - val_categorical_crossentropy: 1.3136 - val_accuracy: 0.6226\n",
      "Epoch 5/10\n",
      "28798/28798 [==============================] - 53s 2ms/step - loss: 1.3463 - categorical_crossentropy: 1.3463 - accuracy: 0.6076 - val_loss: 1.3021 - val_categorical_crossentropy: 1.3021 - val_accuracy: 0.6250\n",
      "Epoch 6/10\n",
      "28798/28798 [==============================] - 52s 2ms/step - loss: 1.3289 - categorical_crossentropy: 1.3289 - accuracy: 0.6116 - val_loss: 1.2911 - val_categorical_crossentropy: 1.2911 - val_accuracy: 0.6265\n",
      "Epoch 7/10\n",
      "28798/28798 [==============================] - 52s 2ms/step - loss: 1.3159 - categorical_crossentropy: 1.3159 - accuracy: 0.6152 - val_loss: 1.2773 - val_categorical_crossentropy: 1.2773 - val_accuracy: 0.6312\n",
      "Epoch 8/10\n",
      "28798/28798 [==============================] - 53s 2ms/step - loss: 1.3057 - categorical_crossentropy: 1.3057 - accuracy: 0.6177 - val_loss: 1.2753 - val_categorical_crossentropy: 1.2753 - val_accuracy: 0.6323\n",
      "Epoch 9/10\n",
      "28798/28798 [==============================] - 55s 2ms/step - loss: 1.2973 - categorical_crossentropy: 1.2973 - accuracy: 0.6199 - val_loss: 1.2692 - val_categorical_crossentropy: 1.2692 - val_accuracy: 0.6330\n",
      "Epoch 10/10\n",
      "28798/28798 [==============================] - 56s 2ms/step - loss: 1.2904 - categorical_crossentropy: 1.2904 - accuracy: 0.6216 - val_loss: 1.2691 - val_categorical_crossentropy: 1.2691 - val_accuracy: 0.6340\n"
     ]
    }
   ],
   "source": [
    "# evaluate the model on validation set and visualize \n",
    "history = model.fit(data_X, data_Y, validation_split = .33, batch_size=128, epochs=10)"
   ]
  },
  {
   "cell_type": "code",
   "execution_count": 53,
   "metadata": {},
   "outputs": [
    {
     "data": {
      "image/png": "[encoded data removed]",
      "text/plain": [
       "<Figure size 432x288 with 1 Axes>"
      ]
     },
     "metadata": {
      "needs_background": "light"
     },
     "output_type": "display_data"
    }
   ],
   "source": [
    "# plot train and validation loss\n",
    "plt.plot(history.history['loss'])\n",
    "plt.plot(history.history['val_loss'])\n",
    "plt.title('model train vs validation loss')\n",
    "plt.ylabel('loss')\n",
    "plt.xlabel('epoch')\n",
    "plt.legend(['train', 'validation'], loc='upper right')\n",
    "plt.show()"
   ]
  },
  {
   "cell_type": "markdown",
   "metadata": {},
   "source": [
    "### Generating Poems"
   ]
  },
  {
   "cell_type": "code",
   "execution_count": 54,
   "metadata": {},
   "outputs": [],
   "source": [
    "def sample(preds, temperature=1.0):\n",
    "    \"\"\"Helper function to sample an index from a probability array.\"\"\"\n",
    "    preds = np.asarray(preds).astype('float64')\n",
    "    preds = np.exp(np.log(preds) / temperature)  # softmax\n",
    "    preds = preds / np.sum(preds)                #\n",
    "    probas = np.random.multinomial(1, preds, 1)  # sample index\n",
    "    return np.argmax(probas)  "
   ]
  },
  {
   "cell_type": "code",
   "execution_count": 63,
   "metadata": {},
   "outputs": [],
   "source": [
    "def generating_poem(poem_length, start_index, diversity, _):\n",
    "    start_index = start_index\n",
    "    diversity = diversity\n",
    "\n",
    "    generated = ''\n",
    "    poemLines = lovePoems[start_index: start_index + seqlen]\n",
    "    generated += poemLines\n",
    "    print('----- Generating with seed: \"' + poemLines + '\"')\n",
    "    sys.stdout.write(generated)\n",
    "\n",
    "    for i in range(poem_length):\n",
    "        x_pred = np.zeros((1, seqlen, len(chars)))\n",
    "        for t, char in enumerate(poemLines):\n",
    "            x_pred[0, t, char_indices[char]] = 1.\n",
    "            \n",
    "        preds = model.predict(x_pred, verbose=0)\n",
    "        next_index = sample(preds[0, -1], diversity)\n",
    "        next_char = indices_char[next_index]\n",
    "\n",
    "        poemLines = poemLines[1:] + next_char\n",
    "\n",
    "        sys.stdout.write(next_char)\n",
    "        sys.stdout.flush()\n",
    "    print()"
   ]
  },
  {
   "cell_type": "code",
   "execution_count": 90,
   "metadata": {
    "scrolled": true
   },
   "outputs": [
    {
     "name": "stdout",
     "output_type": "stream",
     "text": [
      "----- Generating with seed: \"r\\r\\n \\r\\r\\nRoy and Glen\\r\\r\\nlost themselves\\r\\r\\\"\n",
      "r\\r\\n \\r\\r\\nRoy and Glen\\r\\r\\nlost themselves\\r\\r\\nis the world the prides or story in the starting the discapive to the stranged start us the wind. The down the stucky strange and the last the sky   \\r\\r\\neach an all the spon and carry me heart and set, and the bright have so sand for the stranged of the stranger. I see we between my leaves stranged the skies in the annt, sweet of at the same shade to heart, and the can don’t grape in not so self\\r\\r\\n                                                                                             \n"
     ]
    }
   ],
   "source": [
    "generating_poem(500, 1500, .5, _)"
   ]
  },
  {
   "cell_type": "markdown",
   "metadata": {},
   "source": [
    "And it won’t be multiple choiced in the sky love and made the back between the forest and the from the black and sky feet promised which her desire. I could come before the point to the collation.\n",
    "\n",
    "I am a dear the shadows and which stare of the father, the cheek and boxasted seeman that the confecting the can sweating while I moved me can don’t know you want to still watch the stater and we can see a poem who deep of bene to the didn’t were been on the breaks dark in the tongue and blood from the color in the morning on t\n"
   ]
  },
  {
   "cell_type": "markdown",
   "metadata": {},
   "source": [
    "Roy and Glen\n",
    "lost themselves\n",
    "is the world the prides or story in the starting the discapive to the stranged start us the wind. The down the stucky strange and the last the sky\n",
    "each an all the spon and carry me heart and set, and the bright have so sand for the stranged of the stranger. I see we between my leaves stranged the skies in the annt, sweet of at the same shade to heart, and the can don’t grape in not so self\n"
   ]
  },
  {
   "cell_type": "code",
   "execution_count": 91,
   "metadata": {},
   "outputs": [
    {
     "name": "stdout",
     "output_type": "stream",
     "text": [
      "----- Generating with seed: \"r\\r\\nThe woman carried the bucket\\r\\r\\nand the man\"\n",
      "r\\r\\nThe woman carried the bucket\\r\\r\\nand the man with sing are fingers the soft in this do, and of the conficial from the strangering to my slight which the sky stead between the body of a sation under there is the spring became and prices air strange of me to mouth have at his blossoms the sands in the trangs of the stared a paration in the man spring of carvant\\r\\r\\n                                                                                                                                                                                 \n"
     ]
    }
   ],
   "source": [
    "generating_poem(500, 2487, .5, _)"
   ]
  },
  {
   "cell_type": "markdown",
   "metadata": {},
   "source": [
    "The woman carried the bucket\n",
    "and the man with sing are fingers the soft in this do, and of the conficial from the strangering to my slight which the sky stead between the body of a sation under there is the spring became and prices air strange of me to mouth have at his blossoms the sands in the trangs of the stared a paration in the man spring of carvant"
   ]
  }
 ],
 "metadata": {
  "kernelspec": {
   "display_name": "Python 3",
   "language": "python",
   "name": "python3"
  },
  "language_info": {
   "codemirror_mode": {
    "name": "ipython",
    "version": 3
   },
   "file_extension": ".py",
   "mimetype": "text/x-python",
   "name": "python",
   "nbconvert_exporter": "python",
   "pygments_lexer": "ipython3",
   "version": "3.7.4"
  }
 },
 "nbformat": 4,
 "nbformat_minor": 2
}
