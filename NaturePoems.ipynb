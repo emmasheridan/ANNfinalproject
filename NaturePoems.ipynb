{
 "cells": [
  {
   "cell_type": "markdown",
   "metadata": {},
   "source": [
    "# Nature Poems"
   ]
  },
  {
   "cell_type": "code",
   "execution_count": 4,
   "metadata": {},
   "outputs": [
    {
     "name": "stderr",
     "output_type": "stream",
     "text": [
      "Using TensorFlow backend.\n"
     ]
    }
   ],
   "source": [
    "import numpy as np\n",
    "import pandas as pd \n",
    "import random\n",
    "import sys\n",
    "import io\n",
    "from bs4 import BeautifulSoup\n",
    "from keras.callbacks import LambdaCallback\n",
    "from keras.models import Sequential\n",
    "from keras.layers import Dense, LSTM\n",
    "from keras.optimizers import RMSprop\n",
    "import requests as rq\n",
    "from matplotlib import pyplot"
   ]
  },
  {
   "cell_type": "code",
   "execution_count": 5,
   "metadata": {},
   "outputs": [],
   "source": [
    "#extract the nature poems from first dataset\n",
    "#df = pd.read_csv('poems.csv') # load dataset\n",
    "#poems = df['content']\n",
    "#naturePoems1 = poems.loc[df['type'] == 'Nature']"
   ]
  },
  {
   "cell_type": "code",
   "execution_count": 6,
   "metadata": {},
   "outputs": [],
   "source": [
    "#naturePoems1.head()"
   ]
  },
  {
   "cell_type": "code",
   "execution_count": 7,
   "metadata": {},
   "outputs": [
    {
     "data": {
      "text/html": [
       "<div>\n",
       "<style scoped>\n",
       "    .dataframe tbody tr th:only-of-type {\n",
       "        vertical-align: middle;\n",
       "    }\n",
       "\n",
       "    .dataframe tbody tr th {\n",
       "        vertical-align: top;\n",
       "    }\n",
       "\n",
       "    .dataframe thead th {\n",
       "        text-align: right;\n",
       "    }\n",
       "</style>\n",
       "<table border=\"1\" class=\"dataframe\">\n",
       "  <thead>\n",
       "    <tr style=\"text-align: right;\">\n",
       "      <th></th>\n",
       "      <th>Unnamed: 0</th>\n",
       "      <th>Title</th>\n",
       "      <th>Poem</th>\n",
       "      <th>Poet</th>\n",
       "      <th>Tags</th>\n",
       "    </tr>\n",
       "  </thead>\n",
       "  <tbody>\n",
       "    <tr>\n",
       "      <td>6</td>\n",
       "      <td>6</td>\n",
       "      <td>\\r\\r\\n                    Invisible Fish\\r\\r\\n</td>\n",
       "      <td>\\r\\r\\nInvisible fish swim this ghost ocean now described by waves of sand, by water-worn rock. Soon the fish will learn to walk. Then humans will come ashore and paint dreams on the dying stone. Then later, much later, the ocean floor will be punctuated by Chevy trucks, carrying the dreamers’ decendants, who are going to the store.\\r\\r\\n</td>\n",
       "      <td>Joy Harjo</td>\n",
       "      <td>Living,Time &amp; Brevity,Relationships,Family &amp; Ancestors,Nature,Landscapes &amp; Pastorals,Seas, Rivers, &amp; Streams,Social Commentaries,History &amp; Politics</td>\n",
       "    </tr>\n",
       "    <tr>\n",
       "      <td>7</td>\n",
       "      <td>7</td>\n",
       "      <td>\\r\\r\\n                    Don’t Bother the Earth Spirit\\r\\r\\n</td>\n",
       "      <td>\\r\\r\\nDon’t bother the earth spirit who lives here. She is working on a story. It is the oldest story in the world and it is delicate, changing. If she sees you watching she will invite you in for coffee, give you warm bread, and you will be obligated to stay and listen. But this is no ordinary story. You will have to endure earthquakes, lightning, the deaths of all those you love, the most blinding beauty. It’s a story so compelling you may never want to leave; this is how she traps you. See that stone finger over there? That is the only one who ever escaped.\\r\\r\\n</td>\n",
       "      <td>Joy Harjo</td>\n",
       "      <td>Religion,The Spiritual,Mythology &amp; Folklore,Fairy-tales &amp; Legends</td>\n",
       "    </tr>\n",
       "    <tr>\n",
       "      <td>9</td>\n",
       "      <td>9</td>\n",
       "      <td>\\r\\r\\n                    [\"Hour in which I consider hydrangea\"]\\r\\r\\n</td>\n",
       "      <td>\\r\\r\\nHour in which I consider hydrangea, a salt or sand plant, varietal, the question of varietals, the diet of every mother I know, 5 pounds feels like 20, I have lost … I have lost, yes, a sense of my own possible beauty, grown external, I externalize beauty. Beauty occurs on the surface of plants; the sun darkens the skin of my child, he is so small, he is beautiful (I can see; it is obvious) and everything about him is beautiful. His hand swells from the bite [spread?] of some insect[’s] venom because he is small. He appears to feel nothing. He smashes his skull against the floor. He screams. I hold him in my lap on the kitchen floor in front of an open freezer, pressing a pack of frozen clay against his forehead. He likes the cold. I see; it is so obvious. Hydrangea. When I move, when I walk pushing my child’s stroller (it is both walking and pushing or hauling, sometimes, also, lifting; it is having another body, an adjunct body composed of errand and weight and tenderness a...</td>\n",
       "      <td>Simone White</td>\n",
       "      <td>Living,Parenthood,The Body,The Mind,Nature,Trees &amp; Flowers</td>\n",
       "    </tr>\n",
       "    <tr>\n",
       "      <td>16</td>\n",
       "      <td>16</td>\n",
       "      <td>\\r\\r\\n                    scars\\r\\r\\n</td>\n",
       "      <td>\\r\\r\\nmy father’s body is a map\\r\\r\\na record of his journey\\r\\r\\n \\r\\r\\nhe carries a bullet\\r\\r\\nlodged in his left thigh\\r\\r\\nthere is a hollow where it entered\\r\\r\\na protruding bump where it sleeps\\r\\r\\nthe doctors say it will never awaken\\r\\r\\n \\r\\r\\nit is the one souvenir he insists on keeping\\r\\r\\nmother has her own opinionsbố cùa con điên—your father is crazy\\r\\r\\n \\r\\r\\nas a child\\r\\r\\ni wanted a scar just like my father’s\\r\\r\\nbold and appalling     a mushroom explosion\\r\\r\\nthat said i too was at war\\r\\r\\ninstead i settled for a grain of rice\\r\\r\\na scar so small look closely there\\r\\r\\nhere between the eyes\\r\\r\\na bit to the right\\r\\r\\nthere on the bridge of my nose\\r\\r\\n \\r\\r\\nfather says i was too young to remember\\r\\r\\nit happened while i was sleeping\\r\\r\\nleaking roof the pounding rain\\r\\r\\ndrop after drop after drop\\r\\r\\n \\r\\r\\n</td>\n",
       "      <td>Truong Tran</td>\n",
       "      <td>The Body,Family &amp; Ancestors</td>\n",
       "    </tr>\n",
       "    <tr>\n",
       "      <td>17</td>\n",
       "      <td>17</td>\n",
       "      <td>\\r\\r\\n                    what remains two\\r\\r\\n</td>\n",
       "      <td>\\r\\r\\nit has long been forgotten this practice of the mother\\r\\r\\nweaning a child she crushes the seeds of a green\\r\\r\\nchili rubs it to her nipple what the child feels\\r\\r\\nshe too will   share in this act   of love\\r\\r\\nmy own mother says it was not meant\\r\\r\\nto be cruel when cruelty she tells me\\r\\r\\nis a child’s lips   torn from breast as proof\\r\\r\\nback home the women wear teeth marks\\r\\r\\n \\r\\r\\n</td>\n",
       "      <td>Truong Tran</td>\n",
       "      <td>Infancy,Parenthood,The Body</td>\n",
       "    </tr>\n",
       "  </tbody>\n",
       "</table>\n",
       "</div>"
      ],
      "text/plain": [
       "    Unnamed: 0  \\\n",
       "6            6   \n",
       "7            7   \n",
       "9            9   \n",
       "16          16   \n",
       "17          17   \n",
       "\n",
       "                                                                                     Title  \\\n",
       "6                           \\r\\r\\n                    Invisible Fish\\r\\r\\n                   \n",
       "7            \\r\\r\\n                    Don’t Bother the Earth Spirit\\r\\r\\n                   \n",
       "9   \\r\\r\\n                    [\"Hour in which I consider hydrangea\"]\\r\\r\\n                   \n",
       "16                                   \\r\\r\\n                    scars\\r\\r\\n                   \n",
       "17                        \\r\\r\\n                    what remains two\\r\\r\\n                   \n",
       "\n",
       "                                                                                                                                                                                                                                                                                                                                                                                                                                                                                                                                                                                                                                                                                                                                                                                                                                                                                                                                                                                                                                       Poem  \\\n",
       "6                                                                                                                                                                                                                                                                                                                                                                                                                                                                                                                                                                                                                                                                                       \\r\\r\\nInvisible fish swim this ghost ocean now described by waves of sand, by water-worn rock. Soon the fish will learn to walk. Then humans will come ashore and paint dreams on the dying stone. Then later, much later, the ocean floor will be punctuated by Chevy trucks, carrying the dreamers’ decendants, who are going to the store.\\r\\r\\n   \n",
       "7                                                                                                                                                                                                                                                                                                                                                                                                                                              \\r\\r\\nDon’t bother the earth spirit who lives here. She is working on a story. It is the oldest story in the world and it is delicate, changing. If she sees you watching she will invite you in for coffee, give you warm bread, and you will be obligated to stay and listen. But this is no ordinary story. You will have to endure earthquakes, lightning, the deaths of all those you love, the most blinding beauty. It’s a story so compelling you may never want to leave; this is how she traps you. See that stone finger over there? That is the only one who ever escaped.\\r\\r\\n   \n",
       "9   \\r\\r\\nHour in which I consider hydrangea, a salt or sand plant, varietal, the question of varietals, the diet of every mother I know, 5 pounds feels like 20, I have lost … I have lost, yes, a sense of my own possible beauty, grown external, I externalize beauty. Beauty occurs on the surface of plants; the sun darkens the skin of my child, he is so small, he is beautiful (I can see; it is obvious) and everything about him is beautiful. His hand swells from the bite [spread?] of some insect[’s] venom because he is small. He appears to feel nothing. He smashes his skull against the floor. He screams. I hold him in my lap on the kitchen floor in front of an open freezer, pressing a pack of frozen clay against his forehead. He likes the cold. I see; it is so obvious. Hydrangea. When I move, when I walk pushing my child’s stroller (it is both walking and pushing or hauling, sometimes, also, lifting; it is having another body, an adjunct body composed of errand and weight and tenderness a...   \n",
       "16                                                                                                                                                \\r\\r\\nmy father’s body is a map\\r\\r\\na record of his journey\\r\\r\\n \\r\\r\\nhe carries a bullet\\r\\r\\nlodged in his left thigh\\r\\r\\nthere is a hollow where it entered\\r\\r\\na protruding bump where it sleeps\\r\\r\\nthe doctors say it will never awaken\\r\\r\\n \\r\\r\\nit is the one souvenir he insists on keeping\\r\\r\\nmother has her own opinionsbố cùa con điên—your father is crazy\\r\\r\\n \\r\\r\\nas a child\\r\\r\\ni wanted a scar just like my father’s\\r\\r\\nbold and appalling     a mushroom explosion\\r\\r\\nthat said i too was at war\\r\\r\\ninstead i settled for a grain of rice\\r\\r\\na scar so small look closely there\\r\\r\\nhere between the eyes\\r\\r\\na bit to the right\\r\\r\\nthere on the bridge of my nose\\r\\r\\n \\r\\r\\nfather says i was too young to remember\\r\\r\\nit happened while i was sleeping\\r\\r\\nleaking roof the pounding rain\\r\\r\\ndrop after drop after drop\\r\\r\\n \\r\\r\\n   \n",
       "17                                                                                                                                                                                                                                                                                                                                                                                                                                                                                                                                                                                                                   \\r\\r\\nit has long been forgotten this practice of the mother\\r\\r\\nweaning a child she crushes the seeds of a green\\r\\r\\nchili rubs it to her nipple what the child feels\\r\\r\\nshe too will   share in this act   of love\\r\\r\\nmy own mother says it was not meant\\r\\r\\nto be cruel when cruelty she tells me\\r\\r\\nis a child’s lips   torn from breast as proof\\r\\r\\nback home the women wear teeth marks\\r\\r\\n \\r\\r\\n   \n",
       "\n",
       "            Poet  \\\n",
       "6      Joy Harjo   \n",
       "7      Joy Harjo   \n",
       "9   Simone White   \n",
       "16   Truong Tran   \n",
       "17   Truong Tran   \n",
       "\n",
       "                                                                                                                                                   Tags  \n",
       "6   Living,Time & Brevity,Relationships,Family & Ancestors,Nature,Landscapes & Pastorals,Seas, Rivers, & Streams,Social Commentaries,History & Politics  \n",
       "7                                                                                     Religion,The Spiritual,Mythology & Folklore,Fairy-tales & Legends  \n",
       "9                                                                                            Living,Parenthood,The Body,The Mind,Nature,Trees & Flowers  \n",
       "16                                                                                                                          The Body,Family & Ancestors  \n",
       "17                                                                                                                          Infancy,Parenthood,The Body  "
      ]
     },
     "execution_count": 7,
     "metadata": {},
     "output_type": "execute_result"
    }
   ],
   "source": [
    "# loading additional nature poems from poetryfoundation.com dataset\n",
    "df2 = pd.read_csv('PoetryFoundationData.csv') # load dataset\n",
    "pd.options.display.max_colwidth = 1000\n",
    "df2 = df2.dropna()\n",
    "df2.head() # getting top 5 head"
   ]
  },
  {
   "cell_type": "code",
   "execution_count": 8,
   "metadata": {},
   "outputs": [],
   "source": [
    "searchfor = ['Nature']"
   ]
  },
  {
   "cell_type": "code",
   "execution_count": 9,
   "metadata": {},
   "outputs": [],
   "source": [
    "# getting additional poems that contain the tag Love \n",
    "poems2 = df2['Poem']\n",
    "naturePoems2 = poems2.loc[df2['Tags'].str.contains('|'.join(searchfor))]"
   ]
  },
  {
   "cell_type": "code",
   "execution_count": 10,
   "metadata": {},
   "outputs": [
    {
     "data": {
      "text/plain": [
       "6                                                                                                                                                                                                                                                                                                                                                                                                                                                                                                                                                                                                                                                                                          \\r\\r\\nInvisible fish swim this ghost ocean now described by waves of sand, by water-worn rock. Soon the fish will learn to walk. Then humans will come ashore and paint dreams on the dying stone. Then later, much later, the ocean floor will be punctuated by Chevy trucks, carrying the dreamers’ decendants, who are going to the store.\\r\\r\\n\n",
       "9      \\r\\r\\nHour in which I consider hydrangea, a salt or sand plant, varietal, the question of varietals, the diet of every mother I know, 5 pounds feels like 20, I have lost … I have lost, yes, a sense of my own possible beauty, grown external, I externalize beauty. Beauty occurs on the surface of plants; the sun darkens the skin of my child, he is so small, he is beautiful (I can see; it is obvious) and everything about him is beautiful. His hand swells from the bite [spread?] of some insect[’s] venom because he is small. He appears to feel nothing. He smashes his skull against the floor. He screams. I hold him in my lap on the kitchen floor in front of an open freezer, pressing a pack of frozen clay against his forehead. He likes the cold. I see; it is so obvious. Hydrangea. When I move, when I walk pushing my child’s stroller (it is both walking and pushing or hauling, sometimes, also, lifting; it is having another body, an adjunct body composed of errand and weight and tenderness a...\n",
       "126    \\r\\r\\n\\r\\r\\n\\r\\r\\n\\r\\r\\nNYTimes headline for September 4th 2012:\\r\\r\\r\\nElephants Dying in Epic Frenzy As Ivory Fuels Wars and Profits\\r\\r\\n\\r\\r\\n\\r\\r\\n\\r\\r\\n          They return to the site whence they came with eyes tearful,\\r\\r\\nwith psalms trumpeting the air.\\r\\r\\nThey stand ever so watchful;\\r\\r\\nguarding the graves of their ghosts and their kind.\\r\\r\\nThey shall not forget.  They shall not want.\\r\\r\\nThey lie down in green silky pastures\\r\\r\\nand finding their way to the still waters.\\r\\r\\nThey restore and nourish their soul.\\r\\r\\nThey walk through the dark valleys; always the shadows\\r\\r\\nof death lurking behind them.\\r\\r\\nAlways striding till they reach the comforting light.\\r\\r\\nThey fear no evil.  Man fears.\\r\\r\\nThey forage for food and they eat amongst their enemies\\r\\r\\nbecause they fear not.  They are the happiest.\\r\\r\\nThe honey is under their tongue.\\r\\r\\nThe winter is past, the rain is over and gone.\\r\\r\\nTheir hearts awaken.  They know no violence.\\r\\r\\nEven in t...\n",
       "129                                                                                          \\r\\r\\nAll that's left is the shroud\\r\\r\\n                                  the back wings. Roaches\\r\\r\\nscurrying in the kitchen. There’s no\\r\\r\\ngreater threat than this time at hand.\\r\\r\\n      Drunken cackles from the street. Still damp\\r\\r\\n                                                         from 4 AM rain.\\r\\r\\nI missed the instructions for this part. The trap.\\r\\r\\nThe deflate of dream. Utopia was always\\r\\r\\nsupposed to be right at hand. Right and left.\\r\\r\\nAny which way we’d make of it.\\r\\r\\n                                                    Marine layer\\r\\r\\nwon’t budge for the rumble under our feet. Sky\\r\\r\\ntears open in the north. Sirens\\r\\r\\non high. A small pool forms\\r\\r\\nin the buckle of asphalt.\\r\\r\\nIn its gentle tremble\\r\\r\\nthe reflection of the grey\\r\\r\\nwhite mass overhead\\r\\r\\nwith a perfect seam of blue.\\r\\r\\nThe rift where\\r\\r\\nthe dead speak\\r\\r\\nhow-tos.\\r\\r\\n \\r\\r\\n\n",
       "186    \\r\\r\\nYou will leave your home:\\r\\r\\nnothing will hold you.\\r\\r\\nYou will wear dresses of gold; skins\\r\\r\\nof silver, copper, and bronze.\\r\\r\\nThe sky above you will shift in meaning\\r\\r\\neach time you think you understand.\\r\\r\\nYou will spend a lifetime chipping away layers\\r\\r\\nof flesh. The shadow of your scales\\r\\r\\nwill always remain. You will be marked\\r\\r\\nby sulphur and salt.\\r\\r\\nYou will bathe endlessly in clear streams and fail\\r\\r\\nto rid yourself of that scent.\\r\\r\\nYour feet will never be your own.\\r\\r\\nStone will be your path.\\r\\r\\nStorms will follow in your wake,\\r\\r\\ndestroying all those who take you in.\\r\\r\\nYou will desert your children\\r\\r\\nkill your lovers and devour their flesh.\\r\\r\\nYou will love no one\\r\\r\\nbut the wind and ache of your bones.\\r\\r\\nNeither will love you in return.\\r\\r\\nWith age, your hair will grow matted and dull,\\r\\r\\nyour skin will gape and hang in long folds,\\r\\r\\nyour eyes will cease to shine.\\r\\r\\nBut nothing will be enough.\\r\\r\\nThe s...\n",
       "Name: Poem, dtype: object"
      ]
     },
     "execution_count": 10,
     "metadata": {},
     "output_type": "execute_result"
    }
   ],
   "source": [
    "naturePoems2.head()\n"
   ]
  },
  {
   "cell_type": "code",
   "execution_count": 11,
   "metadata": {},
   "outputs": [],
   "source": [
    "# concatenate lovePoems and lovePoems 2 to create more data\n",
    "#naturePoems = naturePoems1 + naturePoems2\n",
    "naturePoems = naturePoems2\n"
   ]
  },
  {
   "cell_type": "code",
   "execution_count": 12,
   "metadata": {},
   "outputs": [],
   "source": [
    "#convert nature series to a string\n",
    "naturePoems = naturePoems.to_string()"
   ]
  },
  {
   "cell_type": "code",
   "execution_count": 13,
   "metadata": {},
   "outputs": [],
   "source": [
    "# MAPPING CHARACTERS: for nature poems, Make two dictionaries , one to convert chars to ints, the other to convert ints back to chars\n",
    "\n",
    "chars = sorted(list(set(naturePoems)))\n",
    "char_indices = dict((c, i) for i, c in enumerate(chars))\n",
    "indices_char = dict((i, c) for i, c in enumerate(chars))"
   ]
  },
  {
   "cell_type": "code",
   "execution_count": 14,
   "metadata": {},
   "outputs": [],
   "source": [
    "# process the dataset:\n",
    "seqlen = 100\n",
    "step = seqlen\n",
    "\n",
    "data_X = []\n",
    "data_y = []\n",
    "\n",
    "poemLines = [] \n",
    "\n",
    "# creates poem lines \n",
    "for i in range(0, len(naturePoems) - seqlen - 1, step):\n",
    "    poemLines.append(naturePoems[i: i + seqlen + 1])\n",
    "    \n",
    "# creating x and y data\n",
    "data_X = np.zeros((len(poemLines), seqlen, len(chars)), dtype=np.bool)\n",
    "data_Y = np.zeros((len(poemLines), seqlen, len(chars)), dtype=np.bool)\n",
    "\n",
    "for i, poemLines in enumerate(poemLines):\n",
    "    for t, (char_in, char_out) in enumerate(zip(poemLines[:-1], poemLines[1:])):\n",
    "        data_X[i, t, char_indices[char_in]] = 1\n",
    "        data_Y[i, t, char_indices[char_out]] = 1"
   ]
  },
  {
   "cell_type": "code",
   "execution_count": 15,
   "metadata": {},
   "outputs": [
    {
     "name": "stdout",
     "output_type": "stream",
     "text": [
      "Model: \"sequential_1\"\n",
      "_________________________________________________________________\n",
      "Layer (type)                 Output Shape              Param #   \n",
      "=================================================================\n",
      "lstm_1 (LSTM)                (None, 100, 80)           76480     \n",
      "_________________________________________________________________\n",
      "dense_1 (Dense)              (None, 100, 158)          12798     \n",
      "=================================================================\n",
      "Total params: 89,278\n",
      "Trainable params: 89,278\n",
      "Non-trainable params: 0\n",
      "_________________________________________________________________\n"
     ]
    }
   ],
   "source": [
    "# create the model\n",
    "model = Sequential()\n",
    "model.add(LSTM(80, input_shape=(seqlen, len(chars)), return_sequences=True))\n",
    "model.add(Dense(len(chars), activation='softmax'))\n",
    "\n",
    "model.compile(loss='categorical_crossentropy', optimizer=RMSprop(learning_rate=0.01), metrics=['categorical_crossentropy', 'accuracy'])\n",
    "model.summary()"
   ]
  },
  {
   "cell_type": "code",
   "execution_count": 16,
   "metadata": {},
   "outputs": [
    {
     "name": "stdout",
     "output_type": "stream",
     "text": [
      "Train on 24424 samples, validate on 12031 samples\n",
      "Epoch 1/10\n",
      "24424/24424 [==============================] - 91s 4ms/step - loss: 2.0877 - categorical_crossentropy: 2.0877 - accuracy: 0.4541 - val_loss: 1.6241 - val_categorical_crossentropy: 1.6241 - val_accuracy: 0.5401\n",
      "Epoch 2/10\n",
      "24424/24424 [==============================] - 96s 4ms/step - loss: 1.4958 - categorical_crossentropy: 1.4958 - accuracy: 0.5688 - val_loss: 1.4599 - val_categorical_crossentropy: 1.4599 - val_accuracy: 0.5799\n",
      "Epoch 3/10\n",
      "24424/24424 [==============================] - 83s 3ms/step - loss: 1.3864 - categorical_crossentropy: 1.3864 - accuracy: 0.5961 - val_loss: 1.3832 - val_categorical_crossentropy: 1.3832 - val_accuracy: 0.6000\n",
      "Epoch 4/10\n",
      "24424/24424 [==============================] - 85s 3ms/step - loss: 1.3338 - categorical_crossentropy: 1.3338 - accuracy: 0.6101 - val_loss: 1.3505 - val_categorical_crossentropy: 1.3505 - val_accuracy: 0.6095\n",
      "Epoch 5/10\n",
      "24424/24424 [==============================] - 81s 3ms/step - loss: 1.3039 - categorical_crossentropy: 1.3039 - accuracy: 0.6184 - val_loss: 1.3339 - val_categorical_crossentropy: 1.3339 - val_accuracy: 0.6152\n",
      "Epoch 6/10\n",
      "24424/24424 [==============================] - 82s 3ms/step - loss: 1.2839 - categorical_crossentropy: 1.2839 - accuracy: 0.6234 - val_loss: 1.3149 - val_categorical_crossentropy: 1.3149 - val_accuracy: 0.6194\n",
      "Epoch 7/10\n",
      "24424/24424 [==============================] - 82s 3ms/step - loss: 1.2700 - categorical_crossentropy: 1.2700 - accuracy: 0.6268 - val_loss: 1.3064 - val_categorical_crossentropy: 1.3064 - val_accuracy: 0.6215\n",
      "Epoch 8/10\n",
      "24424/24424 [==============================] - 83s 3ms/step - loss: 1.2595 - categorical_crossentropy: 1.2595 - accuracy: 0.6297 - val_loss: 1.3015 - val_categorical_crossentropy: 1.3015 - val_accuracy: 0.6225\n",
      "Epoch 9/10\n",
      "24424/24424 [==============================] - 86s 4ms/step - loss: 1.2514 - categorical_crossentropy: 1.2514 - accuracy: 0.6317 - val_loss: 1.2922 - val_categorical_crossentropy: 1.2922 - val_accuracy: 0.6252\n",
      "Epoch 10/10\n",
      "24424/24424 [==============================] - 84s 3ms/step - loss: 1.2449 - categorical_crossentropy: 1.2449 - accuracy: 0.6332 - val_loss: 1.2927 - val_categorical_crossentropy: 1.2927 - val_accuracy: 0.6258\n"
     ]
    }
   ],
   "source": [
    "# train the model\n",
    "history = model.fit(data_X, data_Y, validation_split = .33, batch_size=128, epochs=10)"
   ]
  },
  {
   "cell_type": "code",
   "execution_count": 17,
   "metadata": {},
   "outputs": [
    {
     "data": {
      "image/png": "[encoded data removed]",
      "text/plain": [
       "<Figure size 432x288 with 1 Axes>"
      ]
     },
     "metadata": {
      "needs_background": "light"
     },
     "output_type": "display_data"
    }
   ],
   "source": [
    "#to plot the train and validation loss\n",
    "pyplot.plot(history.history['loss'])\n",
    "pyplot.plot(history.history['val_loss'])\n",
    "pyplot.title('model train vs validation loss')\n",
    "pyplot.ylabel('loss')\n",
    "pyplot.xlabel('epoch')\n",
    "pyplot.legend(['train', 'validation'], loc='upper right')\n",
    "pyplot.show()"
   ]
  },
  {
   "cell_type": "code",
   "execution_count": 18,
   "metadata": {},
   "outputs": [],
   "source": [
    "def sample(preds, temperature=1.0):\n",
    "    \"\"\"Helper function to sample an index from a probability array.\"\"\"\n",
    "    preds = np.asarray(preds).astype('float64')\n",
    "    preds = np.exp(np.log(preds) / temperature)  # softmax\n",
    "    preds = preds / np.sum(preds)                #\n",
    "    probas = np.random.multinomial(1, preds, 1)  # sample index\n",
    "    return np.argmax(probas)  "
   ]
  },
  {
   "cell_type": "code",
   "execution_count": 19,
   "metadata": {},
   "outputs": [],
   "source": [
    "def generating_poem(poem_length, start_index, diversity, _):\n",
    "    start_index = start_index\n",
    "    diversity = diversity\n",
    "\n",
    "    generated = ''\n",
    "    poemLines = naturePoems[start_index: start_index + seqlen]\n",
    "    generated += poemLines\n",
    "    print('----- Generating with seed: \"' + poemLines + '\"')\n",
    "    sys.stdout.write(generated)\n",
    "\n",
    "    for i in range(poem_length):\n",
    "        x_pred = np.zeros((1, seqlen, len(chars)))\n",
    "        for t, char in enumerate(poemLines):\n",
    "            x_pred[0, t, char_indices[char]] = 1.\n",
    "            \n",
    "        preds = model.predict(x_pred, verbose=0)\n",
    "        next_index = sample(preds[0, -1], diversity)\n",
    "        next_char = indices_char[next_index]\n",
    "\n",
    "        poemLines = poemLines[1:] + next_char\n",
    "\n",
    "        sys.stdout.write(next_char)\n",
    "        sys.stdout.flush()\n",
    "    print()"
   ]
  },
  {
   "cell_type": "code",
   "execution_count": 21,
   "metadata": {},
   "outputs": [
    {
     "name": "stdout",
     "output_type": "stream",
     "text": [
      "----- Generating with seed: \"er-worn rock. Soon the fish will learn to walk. Then humans will come ashore and paint dreams on the\"\n",
      "er-worn rock. Soon the fish will learn to walk. Then humans will come ashore and paint dreams on the wall distant when the rain she who water the world of mean the flower   \\r\\r\\nthe flowers the flacks the ancent of my walls and shadows the river and stars them like the sung and flue\\r\\r\\nthe sea when the bodge his not behind the streets of the remement and she to the sings in the screen, the name the stars of the days on the the sounds the dark skin the mother the same and this pity, the clouds have a state is sings and someone land, and at my shell stars\\r\\r\\nas the little still make a way t\n"
     ]
    }
   ],
   "source": [
    "generating_poem(500, 750, .5, _)"
   ]
  },
  {
   "cell_type": "code",
   "execution_count": null,
   "metadata": {},
   "outputs": [],
   "source": []
  }
 ],
 "metadata": {
  "kernelspec": {
   "display_name": "Python 3",
   "language": "python",
   "name": "python3"
  },
  "language_info": {
   "codemirror_mode": {
    "name": "ipython",
    "version": 3
   },
   "file_extension": ".py",
   "mimetype": "text/x-python",
   "name": "python",
   "nbconvert_exporter": "python",
   "pygments_lexer": "ipython3",
   "version": "3.7.4"
  }
 },
 "nbformat": 4,
 "nbformat_minor": 2
}
