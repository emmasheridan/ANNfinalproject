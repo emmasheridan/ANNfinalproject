{
 "cells": [
  {
   "cell_type": "markdown",
   "metadata": {},
   "source": [
    "# ANN Final Project: Poem Generation"
   ]
  },
  {
   "cell_type": "markdown",
   "metadata": {},
   "source": [
    "Emma Sheridan and Jessica Petersen"
   ]
  },
  {
   "cell_type": "code",
   "execution_count": 32,
   "metadata": {},
   "outputs": [
    {
     "name": "stderr",
     "output_type": "stream",
     "text": [
      "Using TensorFlow backend.\n"
     ]
    }
   ],
   "source": [
    "import numpy as np\n",
    "import pandas as pd \n",
    "import random\n",
    "import sys\n",
    "import io\n",
    "from bs4 import BeautifulSoup\n",
    "from keras.callbacks import LambdaCallback\n",
    "from keras.models import Sequential\n",
    "from keras.layers import Dense, LSTM\n",
    "from keras.optimizers import RMSprop\n",
    "import requests as rq"
   ]
  },
  {
   "cell_type": "code",
   "execution_count": 4,
   "metadata": {},
   "outputs": [
    {
     "data": {
      "text/html": [
       "<div>\n",
       "<style scoped>\n",
       "    .dataframe tbody tr th:only-of-type {\n",
       "        vertical-align: middle;\n",
       "    }\n",
       "\n",
       "    .dataframe tbody tr th {\n",
       "        vertical-align: top;\n",
       "    }\n",
       "\n",
       "    .dataframe thead th {\n",
       "        text-align: right;\n",
       "    }\n",
       "</style>\n",
       "<table border=\"1\" class=\"dataframe\">\n",
       "  <thead>\n",
       "    <tr style=\"text-align: right;\">\n",
       "      <th></th>\n",
       "      <th>author</th>\n",
       "      <th>content</th>\n",
       "      <th>poem name</th>\n",
       "      <th>age</th>\n",
       "      <th>type</th>\n",
       "    </tr>\n",
       "  </thead>\n",
       "  <tbody>\n",
       "    <tr>\n",
       "      <td>0</td>\n",
       "      <td>WILLIAM SHAKESPEARE</td>\n",
       "      <td>Let the bird of loudest lay\\r\\nOn the sole Ara...</td>\n",
       "      <td>The Phoenix and the Turtle</td>\n",
       "      <td>Renaissance</td>\n",
       "      <td>Mythology &amp; Folklore</td>\n",
       "    </tr>\n",
       "    <tr>\n",
       "      <td>1</td>\n",
       "      <td>DUCHESS OF NEWCASTLE MARGARET CAVENDISH</td>\n",
       "      <td>Sir Charles into my chamber coming in,\\r\\nWhen...</td>\n",
       "      <td>An Epilogue to the Above</td>\n",
       "      <td>Renaissance</td>\n",
       "      <td>Mythology &amp; Folklore</td>\n",
       "    </tr>\n",
       "    <tr>\n",
       "      <td>2</td>\n",
       "      <td>THOMAS BASTARD</td>\n",
       "      <td>Our vice runs beyond all that old men saw,\\r\\n...</td>\n",
       "      <td>Book 7, Epigram 42</td>\n",
       "      <td>Renaissance</td>\n",
       "      <td>Mythology &amp; Folklore</td>\n",
       "    </tr>\n",
       "    <tr>\n",
       "      <td>3</td>\n",
       "      <td>EDMUND SPENSER</td>\n",
       "      <td>Lo I the man, whose Muse whilome did maske,\\r\\...</td>\n",
       "      <td>from The Faerie Queene: Book I, Canto I</td>\n",
       "      <td>Renaissance</td>\n",
       "      <td>Mythology &amp; Folklore</td>\n",
       "    </tr>\n",
       "    <tr>\n",
       "      <td>4</td>\n",
       "      <td>RICHARD BARNFIELD</td>\n",
       "      <td>Long have I longd to see my love againe,\\r\\nSt...</td>\n",
       "      <td>Sonnet 16</td>\n",
       "      <td>Renaissance</td>\n",
       "      <td>Mythology &amp; Folklore</td>\n",
       "    </tr>\n",
       "  </tbody>\n",
       "</table>\n",
       "</div>"
      ],
      "text/plain": [
       "                                    author  \\\n",
       "0                      WILLIAM SHAKESPEARE   \n",
       "1  DUCHESS OF NEWCASTLE MARGARET CAVENDISH   \n",
       "2                           THOMAS BASTARD   \n",
       "3                           EDMUND SPENSER   \n",
       "4                        RICHARD BARNFIELD   \n",
       "\n",
       "                                             content  \\\n",
       "0  Let the bird of loudest lay\\r\\nOn the sole Ara...   \n",
       "1  Sir Charles into my chamber coming in,\\r\\nWhen...   \n",
       "2  Our vice runs beyond all that old men saw,\\r\\n...   \n",
       "3  Lo I the man, whose Muse whilome did maske,\\r\\...   \n",
       "4  Long have I longd to see my love againe,\\r\\nSt...   \n",
       "\n",
       "                                 poem name          age                  type  \n",
       "0               The Phoenix and the Turtle  Renaissance  Mythology & Folklore  \n",
       "1                 An Epilogue to the Above  Renaissance  Mythology & Folklore  \n",
       "2                       Book 7, Epigram 42  Renaissance  Mythology & Folklore  \n",
       "3  from The Faerie Queene: Book I, Canto I  Renaissance  Mythology & Folklore  \n",
       "4                                Sonnet 16  Renaissance  Mythology & Folklore  "
      ]
     },
     "execution_count": 4,
     "metadata": {},
     "output_type": "execute_result"
    }
   ],
   "source": [
    "df = pd.read_csv('poems.csv') # load dataset\n",
    "df.head() # getting top 5 head"
   ]
  },
  {
   "cell_type": "code",
   "execution_count": 5,
   "metadata": {},
   "outputs": [
    {
     "data": {
      "text/html": [
       "<div>\n",
       "<style scoped>\n",
       "    .dataframe tbody tr th:only-of-type {\n",
       "        vertical-align: middle;\n",
       "    }\n",
       "\n",
       "    .dataframe tbody tr th {\n",
       "        vertical-align: top;\n",
       "    }\n",
       "\n",
       "    .dataframe thead th {\n",
       "        text-align: right;\n",
       "    }\n",
       "</style>\n",
       "<table border=\"1\" class=\"dataframe\">\n",
       "  <thead>\n",
       "    <tr style=\"text-align: right;\">\n",
       "      <th></th>\n",
       "      <th>author</th>\n",
       "      <th>content</th>\n",
       "      <th>poem name</th>\n",
       "      <th>age</th>\n",
       "    </tr>\n",
       "    <tr>\n",
       "      <th>type</th>\n",
       "      <th></th>\n",
       "      <th></th>\n",
       "      <th></th>\n",
       "      <th></th>\n",
       "    </tr>\n",
       "  </thead>\n",
       "  <tbody>\n",
       "    <tr>\n",
       "      <td>Love</td>\n",
       "      <td>326</td>\n",
       "      <td>326</td>\n",
       "      <td>326</td>\n",
       "      <td>326</td>\n",
       "    </tr>\n",
       "    <tr>\n",
       "      <td>Mythology &amp; Folklore</td>\n",
       "      <td>59</td>\n",
       "      <td>59</td>\n",
       "      <td>58</td>\n",
       "      <td>59</td>\n",
       "    </tr>\n",
       "    <tr>\n",
       "      <td>Nature</td>\n",
       "      <td>188</td>\n",
       "      <td>188</td>\n",
       "      <td>187</td>\n",
       "      <td>188</td>\n",
       "    </tr>\n",
       "  </tbody>\n",
       "</table>\n",
       "</div>"
      ],
      "text/plain": [
       "                      author  content  poem name  age\n",
       "type                                                 \n",
       "Love                     326      326        326  326\n",
       "Mythology & Folklore      59       59         58   59\n",
       "Nature                   188      188        187  188"
      ]
     },
     "execution_count": 5,
     "metadata": {},
     "output_type": "execute_result"
    }
   ],
   "source": [
    "df.groupby('type').count()"
   ]
  },
  {
   "cell_type": "code",
   "execution_count": 18,
   "metadata": {},
   "outputs": [],
   "source": [
    "# get the love, nature, and mythology poems \n",
    "poems = df['content']\n",
    "lovePoems = poems.loc[df['type'] == 'Love']\n",
    "mythPoems = poems.loc[df['type'] == 'Mythology & Folklore']\n",
    "naturePoems = poems.loc[df['type'] == 'Nature']"
   ]
  },
  {
   "cell_type": "code",
   "execution_count": 88,
   "metadata": {},
   "outputs": [],
   "source": [
    "lovePoems.head()\n",
    "lovePoems = lovePoems.to_string()"
   ]
  },
  {
   "cell_type": "code",
   "execution_count": 89,
   "metadata": {},
   "outputs": [
    {
     "name": "stdout",
     "output_type": "stream",
     "text": [
      "<class 'str'>\n"
     ]
    }
   ],
   "source": [
    "print(type(lovePoems))"
   ]
  },
  {
   "cell_type": "code",
   "execution_count": 20,
   "metadata": {},
   "outputs": [
    {
     "data": {
      "text/plain": [
       "0    Let the bird of loudest lay\\r\\nOn the sole Ara...\n",
       "1    Sir Charles into my chamber coming in,\\r\\nWhen...\n",
       "2    Our vice runs beyond all that old men saw,\\r\\n...\n",
       "3    Lo I the man, whose Muse whilome did maske,\\r\\...\n",
       "4    Long have I longd to see my love againe,\\r\\nSt...\n",
       "Name: content, dtype: object"
      ]
     },
     "execution_count": 20,
     "metadata": {},
     "output_type": "execute_result"
    }
   ],
   "source": [
    "mythPoems.head()"
   ]
  },
  {
   "cell_type": "code",
   "execution_count": 49,
   "metadata": {},
   "outputs": [
    {
     "data": {
      "text/plain": [
       "19    Why didst thou promise such a beauteous day,\\r...\n",
       "20    The welcome Sun from sea Freake is returned,\\r...\n",
       "21    I met a courtier riding on the plain,\\r\\nWell-...\n",
       "22    Walking the fields a wantcatcher I spied,\\r\\nT...\n",
       "23    Fishing, if I a fisher may protest,\\r\\nOf plea...\n",
       "Name: content, dtype: object"
      ]
     },
     "execution_count": 49,
     "metadata": {},
     "output_type": "execute_result"
    }
   ],
   "source": [
    "naturePoems.head()"
   ]
  },
  {
   "cell_type": "code",
   "execution_count": 90,
   "metadata": {},
   "outputs": [],
   "source": [
    "# MAPPING CHARACTERS: for love poems, Make two dictionaries , one to convert chars to ints, the other to convert ints back to chars\n",
    "\n",
    "chars = sorted(list(set(lovePoems)))\n",
    "char_indices = dict((c, i) for i, c in enumerate(chars))\n",
    "indices_char = dict((i, c) for i, c in enumerate(chars))"
   ]
  },
  {
   "cell_type": "code",
   "execution_count": 91,
   "metadata": {},
   "outputs": [],
   "source": [
    "# process the dataset:\n",
    "seqlen = 50\n",
    "step = seqlen\n",
    "\n",
    "data_X = []\n",
    "data_y = []\n",
    "\n",
    "poemLines = [] \n",
    "\n",
    "# creates poem lines \n",
    "for i in range(0, len(lovePoems) - seqlen - 1, step):\n",
    "    poemLines.append(lovePoems[i: i + seqlen + 1])\n",
    "    \n",
    "# creating x and y data\n",
    "data_X = np.zeros((len(poemLines), seqlen, len(chars)), dtype=np.bool)\n",
    "data_Y = np.zeros((len(poemLines), seqlen, len(chars)), dtype=np.bool)\n",
    "\n",
    "for i, poemLines in enumerate(poemLines):\n",
    "    for t, (char_in, char_out) in enumerate(zip(poemLines[:-1], poemLines[1:])):\n",
    "        data_X[i, t, char_indices[char_in]] = 1\n",
    "        data_Y[i, t, char_indices[char_out]] = 1"
   ]
  },
  {
   "cell_type": "code",
   "execution_count": 92,
   "metadata": {},
   "outputs": [
    {
     "name": "stdout",
     "output_type": "stream",
     "text": [
      "Model: \"sequential_6\"\n",
      "_________________________________________________________________\n",
      "Layer (type)                 Output Shape              Param #   \n",
      "=================================================================\n",
      "lstm_5 (LSTM)                (None, 50, 128)           104960    \n",
      "_________________________________________________________________\n",
      "dense_5 (Dense)              (None, 50, 76)            9804      \n",
      "=================================================================\n",
      "Total params: 114,764\n",
      "Trainable params: 114,764\n",
      "Non-trainable params: 0\n",
      "_________________________________________________________________\n"
     ]
    }
   ],
   "source": [
    "# create the model\n",
    "model = Sequential()\n",
    "model.add(LSTM(128, input_shape=(seqlen, len(chars)), return_sequences=True))\n",
    "model.add(Dense(len(chars), activation='softmax'))\n",
    "\n",
    "model.compile(loss='categorical_crossentropy', optimizer=RMSprop(learning_rate=0.01), metrics=['categorical_crossentropy', 'accuracy'])\n",
    "model.summary()"
   ]
  },
  {
   "cell_type": "code",
   "execution_count": 99,
   "metadata": {},
   "outputs": [
    {
     "name": "stdout",
     "output_type": "stream",
     "text": [
      "Epoch 1/80\n",
      "371/371 [==============================] - 1s 1ms/step - loss: 1.5473 - categorical_crossentropy: 1.5473 - accuracy: 0.5274\n",
      "Epoch 2/80\n",
      "371/371 [==============================] - 1s 1ms/step - loss: 1.5304 - categorical_crossentropy: 1.5304 - accuracy: 0.5374\n",
      "Epoch 3/80\n",
      "371/371 [==============================] - 1s 1ms/step - loss: 1.5005 - categorical_crossentropy: 1.5005 - accuracy: 0.5412\n",
      "Epoch 4/80\n",
      "371/371 [==============================] - 1s 1ms/step - loss: 1.4937 - categorical_crossentropy: 1.4937 - accuracy: 0.5423\n",
      "Epoch 5/80\n",
      "371/371 [==============================] - 1s 1ms/step - loss: 1.5061 - categorical_crossentropy: 1.5061 - accuracy: 0.5365\n",
      "Epoch 6/80\n",
      "371/371 [==============================] - 1s 1ms/step - loss: 1.4710 - categorical_crossentropy: 1.4710 - accuracy: 0.5458\n",
      "Epoch 7/80\n",
      "371/371 [==============================] - 1s 1ms/step - loss: 1.4390 - categorical_crossentropy: 1.4390 - accuracy: 0.5567\n",
      "Epoch 8/80\n",
      "371/371 [==============================] - 1s 1ms/step - loss: 1.4183 - categorical_crossentropy: 1.4183 - accuracy: 0.5646\n",
      "Epoch 9/80\n",
      "371/371 [==============================] - 1s 1ms/step - loss: 1.3918 - categorical_crossentropy: 1.3918 - accuracy: 0.5708\n",
      "Epoch 10/80\n",
      "371/371 [==============================] - 1s 1ms/step - loss: 1.3874 - categorical_crossentropy: 1.3874 - accuracy: 0.5723\n",
      "Epoch 11/80\n",
      "371/371 [==============================] - 1s 1ms/step - loss: 1.3673 - categorical_crossentropy: 1.3673 - accuracy: 0.5779\n",
      "Epoch 12/80\n",
      "371/371 [==============================] - 1s 1ms/step - loss: 1.3724 - categorical_crossentropy: 1.3724 - accuracy: 0.5741\n",
      "Epoch 13/80\n",
      "371/371 [==============================] - 1s 1ms/step - loss: 1.3225 - categorical_crossentropy: 1.3225 - accuracy: 0.5903\n",
      "Epoch 14/80\n",
      "371/371 [==============================] - 1s 1ms/step - loss: 1.3190 - categorical_crossentropy: 1.3190 - accuracy: 0.5918\n",
      "Epoch 15/80\n",
      "371/371 [==============================] - 1s 1ms/step - loss: 1.3044 - categorical_crossentropy: 1.3044 - accuracy: 0.5948\n",
      "Epoch 16/80\n",
      "371/371 [==============================] - 1s 1ms/step - loss: 1.2826 - categorical_crossentropy: 1.2826 - accuracy: 0.6037\n",
      "Epoch 17/80\n",
      "371/371 [==============================] - 1s 1ms/step - loss: 1.2613 - categorical_crossentropy: 1.2613 - accuracy: 0.6064\n",
      "Epoch 18/80\n",
      "371/371 [==============================] - 1s 1ms/step - loss: 1.2295 - categorical_crossentropy: 1.2295 - accuracy: 0.6188\n",
      "Epoch 19/80\n",
      "371/371 [==============================] - 1s 1ms/step - loss: 1.2277 - categorical_crossentropy: 1.2277 - accuracy: 0.6184\n",
      "Epoch 20/80\n",
      "371/371 [==============================] - 1s 1ms/step - loss: 1.1937 - categorical_crossentropy: 1.1937 - accuracy: 0.6300\n",
      "Epoch 21/80\n",
      "371/371 [==============================] - 1s 1ms/step - loss: 1.2184 - categorical_crossentropy: 1.2184 - accuracy: 0.6188\n",
      "Epoch 22/80\n",
      "371/371 [==============================] - 1s 1ms/step - loss: 1.1491 - categorical_crossentropy: 1.1491 - accuracy: 0.6444\n",
      "Epoch 23/80\n",
      "371/371 [==============================] - 1s 1ms/step - loss: 1.1356 - categorical_crossentropy: 1.1356 - accuracy: 0.6506\n",
      "Epoch 24/80\n",
      "371/371 [==============================] - 1s 1ms/step - loss: 1.1221 - categorical_crossentropy: 1.1221 - accuracy: 0.6539\n",
      "Epoch 25/80\n",
      "371/371 [==============================] - 1s 1ms/step - loss: 1.1176 - categorical_crossentropy: 1.1176 - accuracy: 0.6537\n",
      "Epoch 26/80\n",
      "371/371 [==============================] - 1s 1ms/step - loss: 1.0816 - categorical_crossentropy: 1.0816 - accuracy: 0.6645\n",
      "Epoch 27/80\n",
      "371/371 [==============================] - 1s 1ms/step - loss: 1.0570 - categorical_crossentropy: 1.0570 - accuracy: 0.6704\n",
      "Epoch 28/80\n",
      "371/371 [==============================] - 1s 1ms/step - loss: 1.0603 - categorical_crossentropy: 1.0603 - accuracy: 0.6729\n",
      "Epoch 29/80\n",
      "371/371 [==============================] - 1s 1ms/step - loss: 1.0541 - categorical_crossentropy: 1.0541 - accuracy: 0.6666\n",
      "Epoch 30/80\n",
      "371/371 [==============================] - 1s 1ms/step - loss: 1.0039 - categorical_crossentropy: 1.0039 - accuracy: 0.6899\n",
      "Epoch 31/80\n",
      "371/371 [==============================] - 1s 1ms/step - loss: 0.9797 - categorical_crossentropy: 0.9797 - accuracy: 0.6979\n",
      "Epoch 32/80\n",
      "371/371 [==============================] - 1s 1ms/step - loss: 0.9897 - categorical_crossentropy: 0.9897 - accuracy: 0.6950\n",
      "Epoch 33/80\n",
      "371/371 [==============================] - 1s 1ms/step - loss: 0.9567 - categorical_crossentropy: 0.9567 - accuracy: 0.7030\n",
      "Epoch 34/80\n",
      "371/371 [==============================] - 1s 1ms/step - loss: 0.9098 - categorical_crossentropy: 0.9098 - accuracy: 0.7232\n",
      "Epoch 35/80\n",
      "371/371 [==============================] - 1s 1ms/step - loss: 0.9233 - categorical_crossentropy: 0.9233 - accuracy: 0.7135\n",
      "Epoch 36/80\n",
      "371/371 [==============================] - 1s 1ms/step - loss: 0.8938 - categorical_crossentropy: 0.8938 - accuracy: 0.7251\n",
      "Epoch 37/80\n",
      "371/371 [==============================] - 1s 1ms/step - loss: 0.8956 - categorical_crossentropy: 0.8956 - accuracy: 0.7231\n",
      "Epoch 38/80\n",
      "371/371 [==============================] - 1s 1ms/step - loss: 0.8534 - categorical_crossentropy: 0.8534 - accuracy: 0.7409\n",
      "Epoch 39/80\n",
      "371/371 [==============================] - 1s 1ms/step - loss: 0.8612 - categorical_crossentropy: 0.8612 - accuracy: 0.7343\n",
      "Epoch 40/80\n",
      "371/371 [==============================] - 1s 1ms/step - loss: 0.8457 - categorical_crossentropy: 0.8457 - accuracy: 0.7395\n",
      "Epoch 41/80\n",
      "371/371 [==============================] - 1s 1ms/step - loss: 0.8449 - categorical_crossentropy: 0.8449 - accuracy: 0.7397\n",
      "Epoch 42/80\n",
      "371/371 [==============================] - 1s 1ms/step - loss: 0.7777 - categorical_crossentropy: 0.7777 - accuracy: 0.7678\n",
      "Epoch 43/80\n",
      "371/371 [==============================] - 1s 1ms/step - loss: 0.7625 - categorical_crossentropy: 0.7625 - accuracy: 0.7740\n",
      "Epoch 44/80\n",
      "371/371 [==============================] - 1s 1ms/step - loss: 0.7533 - categorical_crossentropy: 0.7533 - accuracy: 0.7737\n",
      "Epoch 45/80\n",
      "371/371 [==============================] - 1s 1ms/step - loss: 0.7979 - categorical_crossentropy: 0.7979 - accuracy: 0.7534\n",
      "Epoch 46/80\n",
      "371/371 [==============================] - 1s 1ms/step - loss: 0.7518 - categorical_crossentropy: 0.7518 - accuracy: 0.7720\n",
      "Epoch 47/80\n",
      "371/371 [==============================] - 1s 1ms/step - loss: 0.7141 - categorical_crossentropy: 0.7141 - accuracy: 0.7871\n",
      "Epoch 48/80\n",
      "371/371 [==============================] - 1s 1ms/step - loss: 0.7157 - categorical_crossentropy: 0.7157 - accuracy: 0.7818\n",
      "Epoch 49/80\n",
      "371/371 [==============================] - 1s 1ms/step - loss: 0.6804 - categorical_crossentropy: 0.6804 - accuracy: 0.8005\n",
      "Epoch 50/80\n",
      "371/371 [==============================] - 1s 1ms/step - loss: 0.7210 - categorical_crossentropy: 0.7210 - accuracy: 0.7825\n",
      "Epoch 51/80\n",
      "371/371 [==============================] - 1s 1ms/step - loss: 0.6615 - categorical_crossentropy: 0.6615 - accuracy: 0.8038\n",
      "Epoch 52/80\n",
      "371/371 [==============================] - 1s 1ms/step - loss: 0.6478 - categorical_crossentropy: 0.6478 - accuracy: 0.8112\n",
      "Epoch 53/80\n",
      "371/371 [==============================] - 1s 1ms/step - loss: 0.6558 - categorical_crossentropy: 0.6558 - accuracy: 0.8053\n",
      "Epoch 54/80\n",
      "371/371 [==============================] - 1s 1ms/step - loss: 0.6681 - categorical_crossentropy: 0.6681 - accuracy: 0.8004\n",
      "Epoch 55/80\n",
      "371/371 [==============================] - 1s 1ms/step - loss: 0.5821 - categorical_crossentropy: 0.5821 - accuracy: 0.8351\n",
      "Epoch 56/80\n",
      "371/371 [==============================] - 1s 1ms/step - loss: 0.6003 - categorical_crossentropy: 0.6003 - accuracy: 0.8254\n",
      "Epoch 57/80\n",
      "371/371 [==============================] - 1s 1ms/step - loss: 0.5619 - categorical_crossentropy: 0.5619 - accuracy: 0.8438\n",
      "Epoch 58/80\n",
      "371/371 [==============================] - 1s 1ms/step - loss: 0.5905 - categorical_crossentropy: 0.5905 - accuracy: 0.8266\n",
      "Epoch 59/80\n",
      "371/371 [==============================] - 1s 1ms/step - loss: 0.5761 - categorical_crossentropy: 0.5761 - accuracy: 0.8329\n",
      "Epoch 60/80\n",
      "371/371 [==============================] - 1s 1ms/step - loss: 0.5630 - categorical_crossentropy: 0.5630 - accuracy: 0.8383\n",
      "Epoch 61/80\n"
     ]
    },
    {
     "name": "stdout",
     "output_type": "stream",
     "text": [
      "371/371 [==============================] - 1s 1ms/step - loss: 0.5326 - categorical_crossentropy: 0.5326 - accuracy: 0.8513\n",
      "Epoch 62/80\n",
      "371/371 [==============================] - 1s 1ms/step - loss: 0.5043 - categorical_crossentropy: 0.5043 - accuracy: 0.8612\n",
      "Epoch 63/80\n",
      "371/371 [==============================] - 1s 1ms/step - loss: 0.5364 - categorical_crossentropy: 0.5364 - accuracy: 0.8466\n",
      "Epoch 64/80\n",
      "371/371 [==============================] - 1s 1ms/step - loss: 0.5206 - categorical_crossentropy: 0.5206 - accuracy: 0.8515\n",
      "Epoch 65/80\n",
      "371/371 [==============================] - 1s 1ms/step - loss: 0.4888 - categorical_crossentropy: 0.4888 - accuracy: 0.8646\n",
      "Epoch 66/80\n",
      "371/371 [==============================] - 1s 1ms/step - loss: 0.5613 - categorical_crossentropy: 0.5613 - accuracy: 0.8316\n",
      "Epoch 67/80\n",
      "371/371 [==============================] - 1s 1ms/step - loss: 0.5041 - categorical_crossentropy: 0.5041 - accuracy: 0.8575\n",
      "Epoch 68/80\n",
      "371/371 [==============================] - 1s 1ms/step - loss: 0.4115 - categorical_crossentropy: 0.4115 - accuracy: 0.8982\n",
      "Epoch 69/80\n",
      "371/371 [==============================] - 1s 1ms/step - loss: 0.4479 - categorical_crossentropy: 0.4479 - accuracy: 0.8799\n",
      "Epoch 70/80\n",
      "371/371 [==============================] - 1s 1ms/step - loss: 0.5224 - categorical_crossentropy: 0.5224 - accuracy: 0.8443\n",
      "Epoch 71/80\n",
      "371/371 [==============================] - 1s 1ms/step - loss: 0.4480 - categorical_crossentropy: 0.4480 - accuracy: 0.8775\n",
      "Epoch 72/80\n",
      "371/371 [==============================] - 1s 1ms/step - loss: 0.4290 - categorical_crossentropy: 0.4290 - accuracy: 0.8817\n",
      "Epoch 73/80\n",
      "371/371 [==============================] - 1s 1ms/step - loss: 0.4065 - categorical_crossentropy: 0.4065 - accuracy: 0.8936\n",
      "Epoch 74/80\n",
      "371/371 [==============================] - 1s 1ms/step - loss: 0.4227 - categorical_crossentropy: 0.4227 - accuracy: 0.8851\n",
      "Epoch 75/80\n",
      "371/371 [==============================] - 1s 1ms/step - loss: 0.4044 - categorical_crossentropy: 0.4044 - accuracy: 0.8893\n",
      "Epoch 76/80\n",
      "371/371 [==============================] - 1s 1ms/step - loss: 0.4099 - categorical_crossentropy: 0.4099 - accuracy: 0.8890\n",
      "Epoch 77/80\n",
      "371/371 [==============================] - 1s 1ms/step - loss: 0.4216 - categorical_crossentropy: 0.4216 - accuracy: 0.8836\n",
      "Epoch 78/80\n",
      "371/371 [==============================] - 1s 1ms/step - loss: 0.3823 - categorical_crossentropy: 0.3823 - accuracy: 0.8980\n",
      "Epoch 79/80\n",
      "371/371 [==============================] - 1s 1ms/step - loss: 0.3685 - categorical_crossentropy: 0.3685 - accuracy: 0.9050\n",
      "Epoch 80/80\n",
      "371/371 [==============================] - 1s 1ms/step - loss: 0.3725 - categorical_crossentropy: 0.3725 - accuracy: 0.9019\n"
     ]
    },
    {
     "data": {
      "text/plain": [
       "<keras.callbacks.callbacks.History at 0x636244f10>"
      ]
     },
     "execution_count": 99,
     "metadata": {},
     "output_type": "execute_result"
    }
   ],
   "source": [
    "# train the model\n",
    "model.fit(data_X, data_Y, batch_size=128, epochs=80)"
   ]
  },
  {
   "cell_type": "code",
   "execution_count": 101,
   "metadata": {},
   "outputs": [],
   "source": [
    "def sample(preds, temperature=1.0):\n",
    "    \"\"\"Helper function to sample an index from a probability array.\"\"\"\n",
    "    preds = np.asarray(preds).astype('float64')\n",
    "    preds = np.exp(np.log(preds) / temperature)  # softmax\n",
    "    preds = preds / np.sum(preds)                #\n",
    "    probas = np.random.multinomial(1, preds, 1)  # sample index\n",
    "    return np.argmax(probas)  "
   ]
  },
  {
   "cell_type": "code",
   "execution_count": 107,
   "metadata": {},
   "outputs": [],
   "source": [
    "def generating_poem(epoch, start_index, diversity, _):\n",
    "    \"\"\"Function invoked at end of each epoch. Prints generated text.\"\"\"\n",
    "    print()\n",
    "    print('----- Generating text after Epoch: %d' % epoch)\n",
    "\n",
    "    start_index = start_index\n",
    "    diversity = diversity\n",
    "\n",
    "    generated = ''\n",
    "    poemLines = lovePoems[start_index: start_index + seqlen]\n",
    "    generated += poemLines\n",
    "    print('----- Generating with seed: \"' + poemLines + '\"')\n",
    "    sys.stdout.write(generated)\n",
    "\n",
    "    for i in range(300):\n",
    "        x_pred = np.zeros((1, seqlen, len(chars)))\n",
    "        for t, char in enumerate(poemLines):\n",
    "            x_pred[0, t, char_indices[char]] = 1.\n",
    "            \n",
    "        preds = model.predict(x_pred, verbose=0)\n",
    "        next_index = sample(preds[0, -1], diversity)\n",
    "        next_char = indices_char[next_index]\n",
    "\n",
    "        poemLines = poemLines[1:] + next_char\n",
    "\n",
    "        sys.stdout.write(next_char)\n",
    "        sys.stdout.flush()\n",
    "    print()"
   ]
  },
  {
   "cell_type": "code",
   "execution_count": 108,
   "metadata": {
    "scrolled": true
   },
   "outputs": [
    {
     "name": "stdout",
     "output_type": "stream",
     "text": [
      "\n",
      "----- Generating text after Epoch: 80\n",
      "----- Generating with seed: \",\\r...\n",
      "73     Weret aught to me I bore the canopy,\"\n",
      ",\\r...\n",
      "73     Weret aught to me I bore the canopy,\\r\\n      B...\n",
      "549    Shy one, shain your came, sile the can be weet\\r\\nDey the rove and I have happy pe, and Love were young,\\r\\nAnd t...\n",
      "176    Louise Bogan, Juans and welt though I bord the seart not thoudlo...\n",
      "197    I saw her lave me, race of truek of seew\\r\\...\n",
      "287    Happy ye leave which reac\n"
     ]
    }
   ],
   "source": [
    "generating_poem(80, 50, .25, _)"
   ]
  },
  {
   "cell_type": "code",
   "execution_count": null,
   "metadata": {},
   "outputs": [],
   "source": []
  }
 ],
 "metadata": {
  "kernelspec": {
   "display_name": "Python 3",
   "language": "python",
   "name": "python3"
  },
  "language_info": {
   "codemirror_mode": {
    "name": "ipython",
    "version": 3
   },
   "file_extension": ".py",
   "mimetype": "text/x-python",
   "name": "python",
   "nbconvert_exporter": "python",
   "pygments_lexer": "ipython3",
   "version": "3.7.4"
  }
 },
 "nbformat": 4,
 "nbformat_minor": 2
}
