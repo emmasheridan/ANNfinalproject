{
 "cells": [
  {
   "cell_type": "markdown",
   "metadata": {},
   "source": [
    "# Nature Poems"
   ]
  },
  {
   "cell_type": "code",
   "execution_count": 1,
   "metadata": {},
   "outputs": [
    {
     "name": "stderr",
     "output_type": "stream",
     "text": [
      "Using TensorFlow backend.\n"
     ]
    }
   ],
   "source": [
    "import numpy as np\n",
    "import pandas as pd \n",
    "#pd.set_option('display.max_columns', None)\n",
    "#pd.set_option('display.width', 1000)\n",
    "import random\n",
    "import sys\n",
    "import io\n",
    "from bs4 import BeautifulSoup\n",
    "from keras.callbacks import LambdaCallback\n",
    "from keras.models import Sequential\n",
    "from keras.layers import Dense, LSTM\n",
    "from keras.optimizers import RMSprop\n",
    "import requests as rq"
   ]
  },
  {
   "cell_type": "code",
   "execution_count": 2,
   "metadata": {},
   "outputs": [],
   "source": [
    "#extract the nature poems from first dataset\n",
    "df = pd.read_csv('poems.csv') # load dataset\n",
    "poems = df['content']\n",
    "naturePoems = poems.loc[df['type'] == 'Nature']"
   ]
  },
  {
   "cell_type": "code",
   "execution_count": 3,
   "metadata": {},
   "outputs": [
    {
     "data": {
      "text/plain": [
       "19    Why didst thou promise such a beauteous day,\\r...\n",
       "20    The welcome Sun from sea Freake is returned,\\r...\n",
       "21    I met a courtier riding on the plain,\\r\\nWell-...\n",
       "22    Walking the fields a wantcatcher I spied,\\r\\nT...\n",
       "23    Fishing, if I a fisher may protest,\\r\\nOf plea...\n",
       "Name: content, dtype: object"
      ]
     },
     "execution_count": 3,
     "metadata": {},
     "output_type": "execute_result"
    }
   ],
   "source": [
    "naturePoems.head()"
   ]
  },
  {
   "cell_type": "code",
   "execution_count": 4,
   "metadata": {},
   "outputs": [],
   "source": [
    "#convert nature series to a string\n",
    "naturePoems = naturePoems.to_string()"
   ]
  },
  {
   "cell_type": "code",
   "execution_count": 5,
   "metadata": {},
   "outputs": [],
   "source": [
    "# MAPPING CHARACTERS: for nature poems, Make two dictionaries , one to convert chars to ints, the other to convert ints back to chars\n",
    "\n",
    "chars = sorted(list(set(naturePoems)))\n",
    "char_indices = dict((c, i) for i, c in enumerate(chars))\n",
    "indices_char = dict((i, c) for i, c in enumerate(chars))"
   ]
  },
  {
   "cell_type": "code",
   "execution_count": 7,
   "metadata": {},
   "outputs": [],
   "source": [
    "# process the dataset:\n",
    "seqlen = 50\n",
    "step = seqlen\n",
    "\n",
    "data_X = []\n",
    "data_y = []\n",
    "\n",
    "poemLines = [] \n",
    "\n",
    "# creates poem lines \n",
    "for i in range(0, len(naturePoems) - seqlen - 1, step):\n",
    "    poemLines.append(naturePoems[i: i + seqlen + 1])\n",
    "    \n",
    "# creating x and y data\n",
    "data_X = np.zeros((len(poemLines), seqlen, len(chars)), dtype=np.bool)\n",
    "data_Y = np.zeros((len(poemLines), seqlen, len(chars)), dtype=np.bool)\n",
    "\n",
    "for i, poemLines in enumerate(poemLines):\n",
    "    for t, (char_in, char_out) in enumerate(zip(poemLines[:-1], poemLines[1:])):\n",
    "        data_X[i, t, char_indices[char_in]] = 1\n",
    "        data_Y[i, t, char_indices[char_out]] = 1"
   ]
  },
  {
   "cell_type": "code",
   "execution_count": 8,
   "metadata": {},
   "outputs": [
    {
     "name": "stdout",
     "output_type": "stream",
     "text": [
      "Model: \"sequential_1\"\n",
      "_________________________________________________________________\n",
      "Layer (type)                 Output Shape              Param #   \n",
      "=================================================================\n",
      "lstm_1 (LSTM)                (None, 50, 128)           104960    \n",
      "_________________________________________________________________\n",
      "dense_1 (Dense)              (None, 50, 76)            9804      \n",
      "=================================================================\n",
      "Total params: 114,764\n",
      "Trainable params: 114,764\n",
      "Non-trainable params: 0\n",
      "_________________________________________________________________\n"
     ]
    }
   ],
   "source": [
    "# create the model\n",
    "model = Sequential()\n",
    "model.add(LSTM(128, input_shape=(seqlen, len(chars)), return_sequences=True))\n",
    "model.add(Dense(len(chars), activation='softmax'))\n",
    "\n",
    "model.compile(loss='categorical_crossentropy', optimizer=RMSprop(learning_rate=0.01), metrics=['categorical_crossentropy', 'accuracy'])\n",
    "model.summary()"
   ]
  },
  {
   "cell_type": "code",
   "execution_count": 9,
   "metadata": {},
   "outputs": [
    {
     "name": "stdout",
     "output_type": "stream",
     "text": [
      "Epoch 1/80\n",
      "214/214 [==============================] - 1s 5ms/step - loss: 4.2536 - categorical_crossentropy: 4.2536 - accuracy: 0.0961\n",
      "Epoch 2/80\n",
      "214/214 [==============================] - 0s 2ms/step - loss: 4.0437 - categorical_crossentropy: 4.0437 - accuracy: 0.1679\n",
      "Epoch 3/80\n",
      "214/214 [==============================] - 1s 2ms/step - loss: 3.3978 - categorical_crossentropy: 3.3978 - accuracy: 0.2180\n",
      "Epoch 4/80\n",
      "214/214 [==============================] - 0s 2ms/step - loss: 3.3034 - categorical_crossentropy: 3.3034 - accuracy: 0.2173\n",
      "Epoch 5/80\n",
      "214/214 [==============================] - 1s 2ms/step - loss: 3.2562 - categorical_crossentropy: 3.2562 - accuracy: 0.2181\n",
      "Epoch 6/80\n",
      "214/214 [==============================] - 0s 2ms/step - loss: 3.2431 - categorical_crossentropy: 3.2431 - accuracy: 0.2190\n",
      "Epoch 7/80\n",
      "214/214 [==============================] - 0s 2ms/step - loss: 3.2887 - categorical_crossentropy: 3.2887 - accuracy: 0.2298\n",
      "Epoch 8/80\n",
      "214/214 [==============================] - 1s 3ms/step - loss: 3.1688 - categorical_crossentropy: 3.1688 - accuracy: 0.2223\n",
      "Epoch 9/80\n",
      "214/214 [==============================] - 1s 3ms/step - loss: 3.1895 - categorical_crossentropy: 3.1895 - accuracy: 0.2458\n",
      "Epoch 10/80\n",
      "214/214 [==============================] - 1s 4ms/step - loss: 3.1084 - categorical_crossentropy: 3.1084 - accuracy: 0.2434\n",
      "Epoch 11/80\n",
      "214/214 [==============================] - 1s 4ms/step - loss: 2.9594 - categorical_crossentropy: 2.9594 - accuracy: 0.2775\n",
      "Epoch 12/80\n",
      "214/214 [==============================] - 1s 2ms/step - loss: 4.1569 - categorical_crossentropy: 4.1569 - accuracy: 0.2391\n",
      "Epoch 13/80\n",
      "214/214 [==============================] - 0s 2ms/step - loss: 2.8691 - categorical_crossentropy: 2.8691 - accuracy: 0.2826\n",
      "Epoch 14/80\n",
      "214/214 [==============================] - 0s 2ms/step - loss: 2.9588 - categorical_crossentropy: 2.9588 - accuracy: 0.2306\n",
      "Epoch 15/80\n",
      "214/214 [==============================] - 1s 3ms/step - loss: 2.8038 - categorical_crossentropy: 2.8038 - accuracy: 0.2864\n",
      "Epoch 16/80\n",
      "214/214 [==============================] - 0s 2ms/step - loss: 2.6808 - categorical_crossentropy: 2.6808 - accuracy: 0.3198\n",
      "Epoch 17/80\n",
      "214/214 [==============================] - 0s 2ms/step - loss: 2.6310 - categorical_crossentropy: 2.6310 - accuracy: 0.3362\n",
      "Epoch 18/80\n",
      "214/214 [==============================] - 1s 2ms/step - loss: 2.5874 - categorical_crossentropy: 2.5874 - accuracy: 0.3433\n",
      "Epoch 19/80\n",
      "214/214 [==============================] - 1s 3ms/step - loss: 2.5032 - categorical_crossentropy: 2.5032 - accuracy: 0.3530\n",
      "Epoch 20/80\n",
      "214/214 [==============================] - 1s 3ms/step - loss: 2.5244 - categorical_crossentropy: 2.5244 - accuracy: 0.3430\n",
      "Epoch 21/80\n",
      "214/214 [==============================] - 0s 2ms/step - loss: 2.4609 - categorical_crossentropy: 2.4609 - accuracy: 0.3697\n",
      "Epoch 22/80\n",
      "214/214 [==============================] - 0s 2ms/step - loss: 2.4712 - categorical_crossentropy: 2.4712 - accuracy: 0.3741\n",
      "Epoch 23/80\n",
      "214/214 [==============================] - 1s 3ms/step - loss: 2.4602 - categorical_crossentropy: 2.4602 - accuracy: 0.3693\n",
      "Epoch 24/80\n",
      "214/214 [==============================] - 1s 3ms/step - loss: 2.3638 - categorical_crossentropy: 2.3638 - accuracy: 0.3673\n",
      "Epoch 25/80\n",
      "214/214 [==============================] - 1s 3ms/step - loss: 2.3866 - categorical_crossentropy: 2.3866 - accuracy: 0.3693\n",
      "Epoch 26/80\n",
      "214/214 [==============================] - 0s 2ms/step - loss: 2.2892 - categorical_crossentropy: 2.2892 - accuracy: 0.3896\n",
      "Epoch 27/80\n",
      "214/214 [==============================] - 1s 4ms/step - loss: 2.3259 - categorical_crossentropy: 2.3259 - accuracy: 0.3917\n",
      "Epoch 28/80\n",
      "214/214 [==============================] - 1s 3ms/step - loss: 2.2339 - categorical_crossentropy: 2.2339 - accuracy: 0.3975\n",
      "Epoch 29/80\n",
      "214/214 [==============================] - 0s 2ms/step - loss: 2.1916 - categorical_crossentropy: 2.1916 - accuracy: 0.4121\n",
      "Epoch 30/80\n",
      "214/214 [==============================] - 0s 2ms/step - loss: 2.2549 - categorical_crossentropy: 2.2549 - accuracy: 0.3756\n",
      "Epoch 31/80\n",
      "214/214 [==============================] - 0s 2ms/step - loss: 2.2490 - categorical_crossentropy: 2.2490 - accuracy: 0.3980\n",
      "Epoch 32/80\n",
      "214/214 [==============================] - 0s 2ms/step - loss: 2.1252 - categorical_crossentropy: 2.1252 - accuracy: 0.4168\n",
      "Epoch 33/80\n",
      "214/214 [==============================] - 1s 3ms/step - loss: 2.1012 - categorical_crossentropy: 2.1012 - accuracy: 0.4181\n",
      "Epoch 34/80\n",
      "214/214 [==============================] - 0s 2ms/step - loss: 2.1470 - categorical_crossentropy: 2.1470 - accuracy: 0.4155\n",
      "Epoch 35/80\n",
      "214/214 [==============================] - 0s 2ms/step - loss: 2.0874 - categorical_crossentropy: 2.0874 - accuracy: 0.4199\n",
      "Epoch 36/80\n",
      "214/214 [==============================] - 0s 2ms/step - loss: 2.0856 - categorical_crossentropy: 2.0856 - accuracy: 0.4274\n",
      "Epoch 37/80\n",
      "214/214 [==============================] - 0s 2ms/step - loss: 2.0571 - categorical_crossentropy: 2.0571 - accuracy: 0.4322\n",
      "Epoch 38/80\n",
      "214/214 [==============================] - 0s 2ms/step - loss: 2.0642 - categorical_crossentropy: 2.0642 - accuracy: 0.4322\n",
      "Epoch 39/80\n",
      "214/214 [==============================] - 0s 2ms/step - loss: 2.0541 - categorical_crossentropy: 2.0541 - accuracy: 0.4282\n",
      "Epoch 40/80\n",
      "214/214 [==============================] - 0s 2ms/step - loss: 1.9926 - categorical_crossentropy: 1.9926 - accuracy: 0.4377\n",
      "Epoch 41/80\n",
      "214/214 [==============================] - 0s 2ms/step - loss: 1.9473 - categorical_crossentropy: 1.9473 - accuracy: 0.4504\n",
      "Epoch 42/80\n",
      "214/214 [==============================] - 0s 2ms/step - loss: 2.0027 - categorical_crossentropy: 2.0027 - accuracy: 0.4427\n",
      "Epoch 43/80\n",
      "214/214 [==============================] - 0s 2ms/step - loss: 1.9480 - categorical_crossentropy: 1.9480 - accuracy: 0.4535\n",
      "Epoch 44/80\n",
      "214/214 [==============================] - 0s 2ms/step - loss: 1.9357 - categorical_crossentropy: 1.9357 - accuracy: 0.4548\n",
      "Epoch 45/80\n",
      "214/214 [==============================] - 0s 2ms/step - loss: 1.9310 - categorical_crossentropy: 1.9310 - accuracy: 0.4606\n",
      "Epoch 46/80\n",
      "214/214 [==============================] - 0s 2ms/step - loss: 1.9294 - categorical_crossentropy: 1.9294 - accuracy: 0.4664\n",
      "Epoch 47/80\n",
      "214/214 [==============================] - 0s 2ms/step - loss: 1.8787 - categorical_crossentropy: 1.8787 - accuracy: 0.4647\n",
      "Epoch 48/80\n",
      "214/214 [==============================] - 0s 2ms/step - loss: 1.8269 - categorical_crossentropy: 1.8269 - accuracy: 0.4809\n",
      "Epoch 49/80\n",
      "214/214 [==============================] - 0s 1ms/step - loss: 1.8904 - categorical_crossentropy: 1.8904 - accuracy: 0.4641\n",
      "Epoch 50/80\n",
      "214/214 [==============================] - 0s 1ms/step - loss: 1.8869 - categorical_crossentropy: 1.8869 - accuracy: 0.4573\n",
      "Epoch 51/80\n",
      "214/214 [==============================] - 0s 1ms/step - loss: 1.8071 - categorical_crossentropy: 1.8071 - accuracy: 0.4900\n",
      "Epoch 52/80\n",
      "214/214 [==============================] - 0s 1ms/step - loss: 1.7674 - categorical_crossentropy: 1.7674 - accuracy: 0.4968\n",
      "Epoch 53/80\n",
      "214/214 [==============================] - 0s 2ms/step - loss: 1.7802 - categorical_crossentropy: 1.7802 - accuracy: 0.4879\n",
      "Epoch 54/80\n",
      "214/214 [==============================] - 0s 2ms/step - loss: 1.7637 - categorical_crossentropy: 1.7637 - accuracy: 0.4921\n",
      "Epoch 55/80\n",
      "214/214 [==============================] - 0s 1ms/step - loss: 1.7420 - categorical_crossentropy: 1.7420 - accuracy: 0.4989\n",
      "Epoch 56/80\n",
      "214/214 [==============================] - 0s 1ms/step - loss: 1.7864 - categorical_crossentropy: 1.7864 - accuracy: 0.4894\n",
      "Epoch 57/80\n",
      "214/214 [==============================] - 0s 2ms/step - loss: 1.7077 - categorical_crossentropy: 1.7077 - accuracy: 0.5093\n",
      "Epoch 58/80\n",
      "214/214 [==============================] - 0s 2ms/step - loss: 1.6527 - categorical_crossentropy: 1.6527 - accuracy: 0.5251\n",
      "Epoch 59/80\n",
      "214/214 [==============================] - 0s 1ms/step - loss: 1.6994 - categorical_crossentropy: 1.6994 - accuracy: 0.5135\n",
      "Epoch 60/80\n",
      "214/214 [==============================] - 0s 1ms/step - loss: 1.7319 - categorical_crossentropy: 1.7319 - accuracy: 0.5036\n",
      "Epoch 61/80\n"
     ]
    },
    {
     "name": "stdout",
     "output_type": "stream",
     "text": [
      "214/214 [==============================] - 0s 1ms/step - loss: 1.6564 - categorical_crossentropy: 1.6564 - accuracy: 0.5179\n",
      "Epoch 62/80\n",
      "214/214 [==============================] - 0s 1ms/step - loss: 1.6087 - categorical_crossentropy: 1.6087 - accuracy: 0.5320\n",
      "Epoch 63/80\n",
      "214/214 [==============================] - 0s 1ms/step - loss: 1.6244 - categorical_crossentropy: 1.6244 - accuracy: 0.5279\n",
      "Epoch 64/80\n",
      "214/214 [==============================] - 0s 1ms/step - loss: 1.6500 - categorical_crossentropy: 1.6500 - accuracy: 0.5275\n",
      "Epoch 65/80\n",
      "214/214 [==============================] - 0s 2ms/step - loss: 1.5525 - categorical_crossentropy: 1.5525 - accuracy: 0.5434\n",
      "Epoch 66/80\n",
      "214/214 [==============================] - 0s 1ms/step - loss: 1.5473 - categorical_crossentropy: 1.5473 - accuracy: 0.5471\n",
      "Epoch 67/80\n",
      "214/214 [==============================] - 0s 1ms/step - loss: 1.5285 - categorical_crossentropy: 1.5285 - accuracy: 0.5511\n",
      "Epoch 68/80\n",
      "214/214 [==============================] - 0s 2ms/step - loss: 1.5408 - categorical_crossentropy: 1.5408 - accuracy: 0.5480\n",
      "Epoch 69/80\n",
      "214/214 [==============================] - 0s 1ms/step - loss: 1.5444 - categorical_crossentropy: 1.5444 - accuracy: 0.5492\n",
      "Epoch 70/80\n",
      "214/214 [==============================] - 0s 2ms/step - loss: 1.5086 - categorical_crossentropy: 1.5086 - accuracy: 0.5565\n",
      "Epoch 71/80\n",
      "214/214 [==============================] - 0s 1ms/step - loss: 1.4716 - categorical_crossentropy: 1.4716 - accuracy: 0.5615\n",
      "Epoch 72/80\n",
      "214/214 [==============================] - 0s 1ms/step - loss: 1.4506 - categorical_crossentropy: 1.4506 - accuracy: 0.5719\n",
      "Epoch 73/80\n",
      "214/214 [==============================] - 0s 1ms/step - loss: 1.4497 - categorical_crossentropy: 1.4497 - accuracy: 0.5697\n",
      "Epoch 74/80\n",
      "214/214 [==============================] - 0s 1ms/step - loss: 1.4261 - categorical_crossentropy: 1.4261 - accuracy: 0.5783\n",
      "Epoch 75/80\n",
      "214/214 [==============================] - 0s 1ms/step - loss: 1.4451 - categorical_crossentropy: 1.4451 - accuracy: 0.5711\n",
      "Epoch 76/80\n",
      "214/214 [==============================] - 0s 2ms/step - loss: 1.4084 - categorical_crossentropy: 1.4084 - accuracy: 0.5834\n",
      "Epoch 77/80\n",
      "214/214 [==============================] - 0s 1ms/step - loss: 1.3306 - categorical_crossentropy: 1.3306 - accuracy: 0.6026\n",
      "Epoch 78/80\n",
      "214/214 [==============================] - 0s 1ms/step - loss: 1.3185 - categorical_crossentropy: 1.3185 - accuracy: 0.6095\n",
      "Epoch 79/80\n",
      "214/214 [==============================] - 0s 1ms/step - loss: 1.3370 - categorical_crossentropy: 1.3370 - accuracy: 0.5986\n",
      "Epoch 80/80\n",
      "214/214 [==============================] - 0s 1ms/step - loss: 1.3388 - categorical_crossentropy: 1.3388 - accuracy: 0.6008\n"
     ]
    },
    {
     "data": {
      "text/plain": [
       "<keras.callbacks.callbacks.History at 0x635b08dd0>"
      ]
     },
     "execution_count": 9,
     "metadata": {},
     "output_type": "execute_result"
    }
   ],
   "source": [
    "# train the model\n",
    "model.fit(data_X, data_Y, batch_size=128, epochs=80)"
   ]
  },
  {
   "cell_type": "code",
   "execution_count": 10,
   "metadata": {},
   "outputs": [],
   "source": [
    "def sample(preds, temperature=1.0):\n",
    "    \"\"\"Helper function to sample an index from a probability array.\"\"\"\n",
    "    preds = np.asarray(preds).astype('float64')\n",
    "    preds = np.exp(np.log(preds) / temperature)  # softmax\n",
    "    preds = preds / np.sum(preds)                #\n",
    "    probas = np.random.multinomial(1, preds, 1)  # sample index\n",
    "    return np.argmax(probas)  "
   ]
  },
  {
   "cell_type": "code",
   "execution_count": 13,
   "metadata": {},
   "outputs": [],
   "source": [
    "def generating_poem(epoch, start_index, diversity, _):\n",
    "    \"\"\"Function invoked at end of each epoch. Prints generated text.\"\"\"\n",
    "    print()\n",
    "    print('----- Generating text after Epoch: %d' % epoch)\n",
    "\n",
    "    start_index = start_index\n",
    "    diversity = diversity\n",
    "\n",
    "    generated = ''\n",
    "    poemLines = naturePoems[start_index: start_index + seqlen]\n",
    "    generated += poemLines\n",
    "    print('----- Generating with seed: \"' + poemLines + '\"')\n",
    "    sys.stdout.write(generated)\n",
    "\n",
    "    for i in range(400):\n",
    "        x_pred = np.zeros((1, seqlen, len(chars)))\n",
    "        for t, char in enumerate(poemLines):\n",
    "            x_pred[0, t, char_indices[char]] = 1.\n",
    "            \n",
    "        preds = model.predict(x_pred, verbose=0)\n",
    "        next_index = sample(preds[0, -1], diversity)\n",
    "        next_char = indices_char[next_index]\n",
    "\n",
    "        poemLines = poemLines[1:] + next_char\n",
    "\n",
    "        sys.stdout.write(next_char)\n",
    "        sys.stdout.flush()\n",
    "    print()"
   ]
  },
  {
   "cell_type": "code",
   "execution_count": 14,
   "metadata": {},
   "outputs": [
    {
     "name": "stdout",
     "output_type": "stream",
     "text": [
      "\n",
      "----- Generating text after Epoch: 80\n",
      "----- Generating with seed: \",\\r...\n",
      "20     The welcome Sun from sea Freake is r\"\n",
      ",\\r...\n",
      "20     The welcome Sun from sea Freake is rod Ise...\n",
      "413    When wast ma bear was foor and greass\\...\n",
      "48     Where was a wart mans and sore from Selected Poems...\n",
      "414    The walle fare was fare fare from Selected Poems...\n",
      "488    The walle faster fare farthe beace from Selected Poems...\n",
      "41     The walles and love farmen from Selected Poems...\n",
      "411                                                                                                \n"
     ]
    }
   ],
   "source": [
    "generating_poem(80, 50, .25, _)"
   ]
  },
  {
   "cell_type": "code",
   "execution_count": null,
   "metadata": {},
   "outputs": [],
   "source": []
  }
 ],
 "metadata": {
  "kernelspec": {
   "display_name": "Python 3",
   "language": "python",
   "name": "python3"
  },
  "language_info": {
   "codemirror_mode": {
    "name": "ipython",
    "version": 3
   },
   "file_extension": ".py",
   "mimetype": "text/x-python",
   "name": "python",
   "nbconvert_exporter": "python",
   "pygments_lexer": "ipython3",
   "version": "3.7.4"
  }
 },
 "nbformat": 4,
 "nbformat_minor": 2
}
