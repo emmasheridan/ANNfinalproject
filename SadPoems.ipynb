{
 "cells": [
  {
   "cell_type": "markdown",
   "metadata": {},
   "source": [
    "# Sad Poems"
   ]
  },
  {
   "cell_type": "code",
   "execution_count": 24,
   "metadata": {},
   "outputs": [],
   "source": [
    "import numpy as np\n",
    "import pandas as pd \n",
    "#pd.set_option('display.max_columns', None)\n",
    "#pd.set_option('display.width', 1000)\n",
    "import random\n",
    "import sys\n",
    "import io\n",
    "from bs4 import BeautifulSoup\n",
    "from keras.callbacks import LambdaCallback\n",
    "from keras.models import Sequential\n",
    "from keras.layers import Dense, LSTM\n",
    "from keras.optimizers import RMSprop\n",
    "import requests as rq\n",
    "from matplotlib import pyplot"
   ]
  },
  {
   "cell_type": "code",
   "execution_count": 25,
   "metadata": {},
   "outputs": [
    {
     "data": {
      "text/html": [
       "<div>\n",
       "<style scoped>\n",
       "    .dataframe tbody tr th:only-of-type {\n",
       "        vertical-align: middle;\n",
       "    }\n",
       "\n",
       "    .dataframe tbody tr th {\n",
       "        vertical-align: top;\n",
       "    }\n",
       "\n",
       "    .dataframe thead th {\n",
       "        text-align: right;\n",
       "    }\n",
       "</style>\n",
       "<table border=\"1\" class=\"dataframe\">\n",
       "  <thead>\n",
       "    <tr style=\"text-align: right;\">\n",
       "      <th></th>\n",
       "      <th>Unnamed: 0</th>\n",
       "      <th>Title</th>\n",
       "      <th>Poem</th>\n",
       "      <th>Poet</th>\n",
       "      <th>Tags</th>\n",
       "    </tr>\n",
       "  </thead>\n",
       "  <tbody>\n",
       "    <tr>\n",
       "      <td>6</td>\n",
       "      <td>6</td>\n",
       "      <td>\\r\\r\\n                    Invisible Fish\\r\\r\\n</td>\n",
       "      <td>\\r\\r\\nInvisible fish swim this ghost ocean now described by waves of sand, by water-worn rock. Soon the fish will learn to walk. Then humans will come ashore and paint dreams on the dying stone. Then later, much later, the ocean floor will be punctuated by Chevy trucks, carrying the dreamers’ decendants, who are going to the store.\\r\\r\\n</td>\n",
       "      <td>Joy Harjo</td>\n",
       "      <td>Living,Time &amp; Brevity,Relationships,Family &amp; Ancestors,Nature,Landscapes &amp; Pastorals,Seas, Rivers, &amp; Streams,Social Commentaries,History &amp; Politics</td>\n",
       "    </tr>\n",
       "    <tr>\n",
       "      <td>7</td>\n",
       "      <td>7</td>\n",
       "      <td>\\r\\r\\n                    Don’t Bother the Earth Spirit\\r\\r\\n</td>\n",
       "      <td>\\r\\r\\nDon’t bother the earth spirit who lives here. She is working on a story. It is the oldest story in the world and it is delicate, changing. If she sees you watching she will invite you in for coffee, give you warm bread, and you will be obligated to stay and listen. But this is no ordinary story. You will have to endure earthquakes, lightning, the deaths of all those you love, the most blinding beauty. It’s a story so compelling you may never want to leave; this is how she traps you. See that stone finger over there? That is the only one who ever escaped.\\r\\r\\n</td>\n",
       "      <td>Joy Harjo</td>\n",
       "      <td>Religion,The Spiritual,Mythology &amp; Folklore,Fairy-tales &amp; Legends</td>\n",
       "    </tr>\n",
       "    <tr>\n",
       "      <td>9</td>\n",
       "      <td>9</td>\n",
       "      <td>\\r\\r\\n                    [\"Hour in which I consider hydrangea\"]\\r\\r\\n</td>\n",
       "      <td>\\r\\r\\nHour in which I consider hydrangea, a salt or sand plant, varietal, the question of varietals, the diet of every mother I know, 5 pounds feels like 20, I have lost … I have lost, yes, a sense of my own possible beauty, grown external, I externalize beauty. Beauty occurs on the surface of plants; the sun darkens the skin of my child, he is so small, he is beautiful (I can see; it is obvious) and everything about him is beautiful. His hand swells from the bite [spread?] of some insect[’s] venom because he is small. He appears to feel nothing. He smashes his skull against the floor. He screams. I hold him in my lap on the kitchen floor in front of an open freezer, pressing a pack of frozen clay against his forehead. He likes the cold. I see; it is so obvious. Hydrangea. When I move, when I walk pushing my child’s stroller (it is both walking and pushing or hauling, sometimes, also, lifting; it is having another body, an adjunct body composed of errand and weight and tenderness a...</td>\n",
       "      <td>Simone White</td>\n",
       "      <td>Living,Parenthood,The Body,The Mind,Nature,Trees &amp; Flowers</td>\n",
       "    </tr>\n",
       "    <tr>\n",
       "      <td>16</td>\n",
       "      <td>16</td>\n",
       "      <td>\\r\\r\\n                    scars\\r\\r\\n</td>\n",
       "      <td>\\r\\r\\nmy father’s body is a map\\r\\r\\na record of his journey\\r\\r\\n \\r\\r\\nhe carries a bullet\\r\\r\\nlodged in his left thigh\\r\\r\\nthere is a hollow where it entered\\r\\r\\na protruding bump where it sleeps\\r\\r\\nthe doctors say it will never awaken\\r\\r\\n \\r\\r\\nit is the one souvenir he insists on keeping\\r\\r\\nmother has her own opinionsbố cùa con điên—your father is crazy\\r\\r\\n \\r\\r\\nas a child\\r\\r\\ni wanted a scar just like my father’s\\r\\r\\nbold and appalling     a mushroom explosion\\r\\r\\nthat said i too was at war\\r\\r\\ninstead i settled for a grain of rice\\r\\r\\na scar so small look closely there\\r\\r\\nhere between the eyes\\r\\r\\na bit to the right\\r\\r\\nthere on the bridge of my nose\\r\\r\\n \\r\\r\\nfather says i was too young to remember\\r\\r\\nit happened while i was sleeping\\r\\r\\nleaking roof the pounding rain\\r\\r\\ndrop after drop after drop\\r\\r\\n \\r\\r\\n</td>\n",
       "      <td>Truong Tran</td>\n",
       "      <td>The Body,Family &amp; Ancestors</td>\n",
       "    </tr>\n",
       "    <tr>\n",
       "      <td>17</td>\n",
       "      <td>17</td>\n",
       "      <td>\\r\\r\\n                    what remains two\\r\\r\\n</td>\n",
       "      <td>\\r\\r\\nit has long been forgotten this practice of the mother\\r\\r\\nweaning a child she crushes the seeds of a green\\r\\r\\nchili rubs it to her nipple what the child feels\\r\\r\\nshe too will   share in this act   of love\\r\\r\\nmy own mother says it was not meant\\r\\r\\nto be cruel when cruelty she tells me\\r\\r\\nis a child’s lips   torn from breast as proof\\r\\r\\nback home the women wear teeth marks\\r\\r\\n \\r\\r\\n</td>\n",
       "      <td>Truong Tran</td>\n",
       "      <td>Infancy,Parenthood,The Body</td>\n",
       "    </tr>\n",
       "  </tbody>\n",
       "</table>\n",
       "</div>"
      ],
      "text/plain": [
       "    Unnamed: 0  \\\n",
       "6            6   \n",
       "7            7   \n",
       "9            9   \n",
       "16          16   \n",
       "17          17   \n",
       "\n",
       "                                                                                     Title  \\\n",
       "6                           \\r\\r\\n                    Invisible Fish\\r\\r\\n                   \n",
       "7            \\r\\r\\n                    Don’t Bother the Earth Spirit\\r\\r\\n                   \n",
       "9   \\r\\r\\n                    [\"Hour in which I consider hydrangea\"]\\r\\r\\n                   \n",
       "16                                   \\r\\r\\n                    scars\\r\\r\\n                   \n",
       "17                        \\r\\r\\n                    what remains two\\r\\r\\n                   \n",
       "\n",
       "                                                                                                                                                                                                                                                                                                                                                                                                                                                                                                                                                                                                                                                                                                                                                                                                                                                                                                                                                                                                                                       Poem  \\\n",
       "6                                                                                                                                                                                                                                                                                                                                                                                                                                                                                                                                                                                                                                                                                       \\r\\r\\nInvisible fish swim this ghost ocean now described by waves of sand, by water-worn rock. Soon the fish will learn to walk. Then humans will come ashore and paint dreams on the dying stone. Then later, much later, the ocean floor will be punctuated by Chevy trucks, carrying the dreamers’ decendants, who are going to the store.\\r\\r\\n   \n",
       "7                                                                                                                                                                                                                                                                                                                                                                                                                                              \\r\\r\\nDon’t bother the earth spirit who lives here. She is working on a story. It is the oldest story in the world and it is delicate, changing. If she sees you watching she will invite you in for coffee, give you warm bread, and you will be obligated to stay and listen. But this is no ordinary story. You will have to endure earthquakes, lightning, the deaths of all those you love, the most blinding beauty. It’s a story so compelling you may never want to leave; this is how she traps you. See that stone finger over there? That is the only one who ever escaped.\\r\\r\\n   \n",
       "9   \\r\\r\\nHour in which I consider hydrangea, a salt or sand plant, varietal, the question of varietals, the diet of every mother I know, 5 pounds feels like 20, I have lost … I have lost, yes, a sense of my own possible beauty, grown external, I externalize beauty. Beauty occurs on the surface of plants; the sun darkens the skin of my child, he is so small, he is beautiful (I can see; it is obvious) and everything about him is beautiful. His hand swells from the bite [spread?] of some insect[’s] venom because he is small. He appears to feel nothing. He smashes his skull against the floor. He screams. I hold him in my lap on the kitchen floor in front of an open freezer, pressing a pack of frozen clay against his forehead. He likes the cold. I see; it is so obvious. Hydrangea. When I move, when I walk pushing my child’s stroller (it is both walking and pushing or hauling, sometimes, also, lifting; it is having another body, an adjunct body composed of errand and weight and tenderness a...   \n",
       "16                                                                                                                                                \\r\\r\\nmy father’s body is a map\\r\\r\\na record of his journey\\r\\r\\n \\r\\r\\nhe carries a bullet\\r\\r\\nlodged in his left thigh\\r\\r\\nthere is a hollow where it entered\\r\\r\\na protruding bump where it sleeps\\r\\r\\nthe doctors say it will never awaken\\r\\r\\n \\r\\r\\nit is the one souvenir he insists on keeping\\r\\r\\nmother has her own opinionsbố cùa con điên—your father is crazy\\r\\r\\n \\r\\r\\nas a child\\r\\r\\ni wanted a scar just like my father’s\\r\\r\\nbold and appalling     a mushroom explosion\\r\\r\\nthat said i too was at war\\r\\r\\ninstead i settled for a grain of rice\\r\\r\\na scar so small look closely there\\r\\r\\nhere between the eyes\\r\\r\\na bit to the right\\r\\r\\nthere on the bridge of my nose\\r\\r\\n \\r\\r\\nfather says i was too young to remember\\r\\r\\nit happened while i was sleeping\\r\\r\\nleaking roof the pounding rain\\r\\r\\ndrop after drop after drop\\r\\r\\n \\r\\r\\n   \n",
       "17                                                                                                                                                                                                                                                                                                                                                                                                                                                                                                                                                                                                                   \\r\\r\\nit has long been forgotten this practice of the mother\\r\\r\\nweaning a child she crushes the seeds of a green\\r\\r\\nchili rubs it to her nipple what the child feels\\r\\r\\nshe too will   share in this act   of love\\r\\r\\nmy own mother says it was not meant\\r\\r\\nto be cruel when cruelty she tells me\\r\\r\\nis a child’s lips   torn from breast as proof\\r\\r\\nback home the women wear teeth marks\\r\\r\\n \\r\\r\\n   \n",
       "\n",
       "            Poet  \\\n",
       "6      Joy Harjo   \n",
       "7      Joy Harjo   \n",
       "9   Simone White   \n",
       "16   Truong Tran   \n",
       "17   Truong Tran   \n",
       "\n",
       "                                                                                                                                                   Tags  \n",
       "6   Living,Time & Brevity,Relationships,Family & Ancestors,Nature,Landscapes & Pastorals,Seas, Rivers, & Streams,Social Commentaries,History & Politics  \n",
       "7                                                                                     Religion,The Spiritual,Mythology & Folklore,Fairy-tales & Legends  \n",
       "9                                                                                            Living,Parenthood,The Body,The Mind,Nature,Trees & Flowers  \n",
       "16                                                                                                                          The Body,Family & Ancestors  \n",
       "17                                                                                                                          Infancy,Parenthood,The Body  "
      ]
     },
     "execution_count": 25,
     "metadata": {},
     "output_type": "execute_result"
    }
   ],
   "source": [
    "# loading additional nature poems from poetryfoundation.com dataset\n",
    "pd.options.display.max_colwidth = 1000\n",
    "df2 = pd.read_csv('PoetryFoundationData.csv') # load dataset\n",
    "df2 = df2.dropna()\n",
    "df2.head() # getting top 5 head"
   ]
  },
  {
   "cell_type": "code",
   "execution_count": 26,
   "metadata": {},
   "outputs": [],
   "source": [
    "searchfor = ['Sorrow']"
   ]
  },
  {
   "cell_type": "code",
   "execution_count": 27,
   "metadata": {},
   "outputs": [],
   "source": [
    "# getting additional poems that contain the tag Love \n",
    "poems2 = df2['Poem']\n",
    "sadPoems = poems2.loc[df2['Tags'].str.contains('|'.join(searchfor))]"
   ]
  },
  {
   "cell_type": "code",
   "execution_count": 28,
   "metadata": {},
   "outputs": [
    {
     "data": {
      "text/plain": [
       "28                                                                                                                                                                                                                                                                                                                \\r\\r\\nNothing can reach you now, not lead or steel,\\r\\r\\nor what life itself eventually reveals.\\r\\r\\n \\r\\r\\nNo more studies of kindness or courtesy,\\r\\r\\nnor grace or charity, all is needless now.\\r\\r\\n \\r\\r\\nAll is needless now, sky, world, family\\r\\r\\ngrieving for their bundles of purity,\\r\\r\\n \\r\\r\\nnow beyond disgrace, failure, winter streets,\\r\\r\\nor whatever attacks, and then retreats.\\r\\r\\n \\r\\r\\nClassrooms emptied of children’s things,\\r\\r\\npaper and paste, and love’s imaginings,\\r\\r\\n \\r\\r\\nbundles of peace, Christmas-blessed\\r\\r\\nwith the unborn and the dead at rest,\\r\\r\\n \\r\\r\\nnothing can reach you now, not lead or steel\\r\\r\\nor what life itself eventually reveals.\\r\\r\\n \\r\\r\\n\n",
       "29    \\r\\r\\nAmong physicians rich in their death watch\\r\\r\\nIn hallways crowded with locked wheelchairs,\\r\\r\\nCradles of a century’s platitudes,\\r\\r\\nThe stale air smelling of disinfectant\\r\\r\\nAnd weeping wounds enough to stupefy nurses,\\r\\r\\nAmong the staring insomniacs of the day room,\\r\\r\\nThe stroke victims on their rented gurneys,\\r\\r\\nComplaining orderlies and rattling carts\\r\\r\\n \\r\\r\\nAmong these in this place my father lay\\r\\r\\nAt the end of everything\\r\\r\\n \\r\\r\\nIn the curved landscapes of white sheets\\r\\r\\nAbandoned finally by parents, his son,\\r\\r\\n \\r\\r\\nThe loyal company, old friends, his death\\r\\r\\nA sign of other deaths too soon to come\\r\\r\\n \\r\\r\\nUnable to recall one life, his thoughts,\\r\\r\\nFeatures, he lay unknown to himself,\\r\\r\\n \\r\\r\\nThe tall hunter of pheasants out with his boy\\r\\r\\nIn vellum corn and brassy orchards\\r\\r\\n \\r\\r\\nIn an autumn that never was, the proud\\r\\r\\nWhite-collared Ford employee lay on a bed\\r\\r\\n \\r\\r\\nToo short for legs tattooed with red...\n",
       "30    \\r\\r\\nImagine half your face\\r\\r\\nrubbed out yet\\r\\r\\nyou are suited up\\r\\r\\nand walking\\r\\r\\nto the office.\\r\\r\\n \\r\\r\\nHow will your mates\\r\\r\\ngreet you?\\r\\r\\nwith heavy hearts,\\r\\r\\nflowers,\\r\\r\\nrosary beads?\\r\\r\\nHow shall we greet\\r\\r\\nthe orphan boy,\\r\\r\\nthe husband whose hand\\r\\r\\nslipped, children\\r\\r\\nand wife swept away?\\r\\r\\n \\r\\r\\nHow to greet\\r\\r\\nour new years\\r\\r\\nand our birthdays?\\r\\r\\nShall we always\\r\\r\\nlight a candle?\\r\\r\\n \\r\\r\\nDo we remember\\r\\r\\nthat time erases\\r\\r\\nthe shore, grass\\r\\r\\ngrows, pain’s\\r\\r\\nmodified?\\r\\r\\n \\r\\r\\nAt Hikkaduwa\\r\\r\\nin 1980 I wrote a ditty,\\r\\r\\na sailor’s song\\r\\r\\nabout rain\\r\\r\\nin sunny Ceylon.\\r\\r\\n \\r\\r\\nI don’t know\\r\\r\\nwhat Calypsonians\\r\\r\\nwould compose\\r\\r\\nabout this monstrous\\r\\r\\nwave, this blind hatchet man;\\r\\r\\n \\r\\r\\ndon’t know\\r\\r\\nthe Baila singers’ reply;\\r\\r\\nwe are a “happy and\\r\\r\\ngo” people\\r\\r\\nyet the fisherman’s wife\\r\\r\\n \\r\\r\\nknows\\r\\r\\nthat her grandfather\\r\\r\\nwas eaten by the ocean—\\r\\r\\n...\n",
       "47    \\r\\r\\nThe   first    great    poet  of\\r\\r\\nthe  crisis  the   one  whose\\r\\r\\ngeneration   was  left  as  if\\r\\r\\nfirebombed     though      if\\r\\r\\nyou    look     back   at    the\\r\\r\\nseminal    work    you   will\\r\\r\\nsee  that only a  handful of\\r\\r\\n \\r\\r\\nof   the   poems    explicitly\n",
       "\\r\\r\\ntouch   on   that  dark time\n",
       "\\r\\r\\nthe    blood    filling     with\n",
       "\\r\\r\\nvirulence    and   the  night\n",
       "\\r\\r\\nalways          black         and\\r\\r\\nspangled   with  stars  says\n",
       "\\r\\r\\nwhen           faced         with\\r\\r\\n \\r\\r\\ndifficult      material      the\n",
       "\\r\\r\\npoet       should          begin\\r\\r\\nobliquely      creeping     in\n",
       "\\r\\r\\nfrom   the   edge  a  square\n",
       "\\r\\r\\nof         light             moving\\r\\r\\nimperceptibly   across  the\\r\\r\\nfloor as    the earth    turns\\r\\r\\n \\r\\r\\nand   so   I   will   tell    you\n",
       "\\r\\r\\nthat  ever  since  I saw  the\n",
       "\\r\\r\\nfootage           of              the\\r\\r\\njournalists   hiding  in  the\\r\\r\\nattic      the    rope    ladder\\r\\r\\npulled ...\n",
       "73                                                                                                                                                                                                                                                                                                                                                                                                                                                                                                                                                                                                                        \\r\\r\\nWhen I was three,\\r\\r\\na tsunami hit town.\\r\\r\\n“Daddy, Daddy, save me,\\r\\r\\ndon’t let me drown.”\\r\\r\\nHe saved me\\r\\r\\nand my common-type dolls.\\r\\r\\n \\r\\r\\nWhen I was sixteen,\\r\\r\\nanother tsunami hit town.\\r\\r\\nI cried to my daddy,\\r\\r\\n“Daddy, Daddy, please save me,\\r\\r\\ndon’t let me drown!”\\r\\r\\nBut he let go of my hand!\\r\\r\\n \\r\\r\\nI still dance\\r\\r\\nto what broke on my life.\\r\\r\\n \\r\\r\\n\n",
       "Name: Poem, dtype: object"
      ]
     },
     "execution_count": 28,
     "metadata": {},
     "output_type": "execute_result"
    }
   ],
   "source": [
    "sadPoems.head()\n"
   ]
  },
  {
   "cell_type": "code",
   "execution_count": 29,
   "metadata": {},
   "outputs": [],
   "source": [
    "#convert nature series to a string\n",
    "sadPoems = sadPoems.to_string()"
   ]
  },
  {
   "cell_type": "code",
   "execution_count": 30,
   "metadata": {},
   "outputs": [],
   "source": [
    "# MAPPING CHARACTERS: for sad poems, Make two dictionaries , one to convert chars to ints, the other to convert ints back to chars\n",
    "\n",
    "chars = sorted(list(set(sadPoems)))\n",
    "char_indices = dict((c, i) for i, c in enumerate(chars))\n",
    "indices_char = dict((i, c) for i, c in enumerate(chars))"
   ]
  },
  {
   "cell_type": "code",
   "execution_count": 31,
   "metadata": {},
   "outputs": [],
   "source": [
    "# process the dataset:\n",
    "seqlen = 100\n",
    "step = seqlen\n",
    "\n",
    "data_X = []\n",
    "data_y = []\n",
    "\n",
    "poemLines = [] \n",
    "\n",
    "# creates poem lines \n",
    "for i in range(0, len(sadPoems) - seqlen - 1, step):\n",
    "    poemLines.append(sadPoems[i: i + seqlen + 1])\n",
    "    \n",
    "# creating x and y data\n",
    "data_X = np.zeros((len(poemLines), seqlen, len(chars)), dtype=np.bool)\n",
    "data_Y = np.zeros((len(poemLines), seqlen, len(chars)), dtype=np.bool)\n",
    "\n",
    "for i, poemLines in enumerate(poemLines):\n",
    "    for t, (char_in, char_out) in enumerate(zip(poemLines[:-1], poemLines[1:])):\n",
    "        data_X[i, t, char_indices[char_in]] = 1\n",
    "        data_Y[i, t, char_indices[char_out]] = 1"
   ]
  },
  {
   "cell_type": "code",
   "execution_count": 32,
   "metadata": {},
   "outputs": [
    {
     "name": "stdout",
     "output_type": "stream",
     "text": [
      "Model: \"sequential_2\"\n",
      "_________________________________________________________________\n",
      "Layer (type)                 Output Shape              Param #   \n",
      "=================================================================\n",
      "lstm_2 (LSTM)                (None, 100, 80)           67520     \n",
      "_________________________________________________________________\n",
      "dense_2 (Dense)              (None, 100, 130)          10530     \n",
      "=================================================================\n",
      "Total params: 78,050\n",
      "Trainable params: 78,050\n",
      "Non-trainable params: 0\n",
      "_________________________________________________________________\n"
     ]
    }
   ],
   "source": [
    "# create the model\n",
    "model = Sequential()\n",
    "model.add(LSTM(80, input_shape=(seqlen, len(chars)), return_sequences=True))\n",
    "model.add(Dense(len(chars), activation='softmax'))\n",
    "\n",
    "model.compile(loss='categorical_crossentropy', optimizer=RMSprop(learning_rate=0.01), metrics=['categorical_crossentropy', 'accuracy'])\n",
    "model.summary()"
   ]
  },
  {
   "cell_type": "code",
   "execution_count": 33,
   "metadata": {},
   "outputs": [
    {
     "name": "stdout",
     "output_type": "stream",
     "text": [
      "Train on 5691 samples, validate on 2804 samples\n",
      "Epoch 1/10\n",
      "5691/5691 [==============================] - 20s 3ms/step - loss: 2.8348 - categorical_crossentropy: 2.8348 - accuracy: 0.3140 - val_loss: 2.3048 - val_categorical_crossentropy: 2.3048 - val_accuracy: 0.4231\n",
      "Epoch 2/10\n",
      "5691/5691 [==============================] - 17s 3ms/step - loss: 2.1558 - categorical_crossentropy: 2.1558 - accuracy: 0.4147 - val_loss: 1.9541 - val_categorical_crossentropy: 1.9541 - val_accuracy: 0.4732\n",
      "Epoch 3/10\n",
      "5691/5691 [==============================] - 17s 3ms/step - loss: 1.8797 - categorical_crossentropy: 1.8797 - accuracy: 0.4752 - val_loss: 1.7530 - val_categorical_crossentropy: 1.7530 - val_accuracy: 0.5120\n",
      "Epoch 4/10\n",
      "5691/5691 [==============================] - 17s 3ms/step - loss: 1.7437 - categorical_crossentropy: 1.7437 - accuracy: 0.5055 - val_loss: 1.6446 - val_categorical_crossentropy: 1.6446 - val_accuracy: 0.5387\n",
      "Epoch 5/10\n",
      "5691/5691 [==============================] - 17s 3ms/step - loss: 1.6556 - categorical_crossentropy: 1.6556 - accuracy: 0.5268 - val_loss: 1.5770 - val_categorical_crossentropy: 1.5770 - val_accuracy: 0.5551\n",
      "Epoch 6/10\n",
      "5691/5691 [==============================] - 17s 3ms/step - loss: 1.5989 - categorical_crossentropy: 1.5989 - accuracy: 0.5412 - val_loss: 1.5241 - val_categorical_crossentropy: 1.5241 - val_accuracy: 0.5671\n",
      "Epoch 7/10\n",
      "5691/5691 [==============================] - 18s 3ms/step - loss: 1.5558 - categorical_crossentropy: 1.5558 - accuracy: 0.5525 - val_loss: 1.5014 - val_categorical_crossentropy: 1.5014 - val_accuracy: 0.5736\n",
      "Epoch 8/10\n",
      "5691/5691 [==============================] - 18s 3ms/step - loss: 1.5213 - categorical_crossentropy: 1.5213 - accuracy: 0.5612 - val_loss: 1.4861 - val_categorical_crossentropy: 1.4861 - val_accuracy: 0.5766\n",
      "Epoch 9/10\n",
      "5691/5691 [==============================] - 19s 3ms/step - loss: 1.4942 - categorical_crossentropy: 1.4942 - accuracy: 0.5688 - val_loss: 1.4518 - val_categorical_crossentropy: 1.4518 - val_accuracy: 0.5884\n",
      "Epoch 10/10\n",
      "5691/5691 [==============================] - 17s 3ms/step - loss: 1.4707 - categorical_crossentropy: 1.4707 - accuracy: 0.5754 - val_loss: 1.4294 - val_categorical_crossentropy: 1.4294 - val_accuracy: 0.5915\n"
     ]
    }
   ],
   "source": [
    "# train the model\n",
    "history = model.fit(data_X, data_Y, validation_split = .33, batch_size=128, epochs=10)"
   ]
  },
  {
   "cell_type": "code",
   "execution_count": 34,
   "metadata": {},
   "outputs": [],
   "source": [
    "# evaluate the model on validation set and vizualise\n",
    "#history = model.fit(data_X, data_Y, validation_split = .33, batch_size=128, epochs=10)"
   ]
  },
  {
   "cell_type": "code",
   "execution_count": 35,
   "metadata": {},
   "outputs": [
    {
     "data": {
      "image/png": "[encoded data removed]",
      "text/plain": [
       "<Figure size 432x288 with 1 Axes>"
      ]
     },
     "metadata": {
      "needs_background": "light"
     },
     "output_type": "display_data"
    }
   ],
   "source": [
    "#to plot the train and validation loss\n",
    "pyplot.plot(history.history['loss'])\n",
    "pyplot.plot(history.history['val_loss'])\n",
    "pyplot.title('model train vs validation loss')\n",
    "pyplot.ylabel('loss')\n",
    "pyplot.xlabel('epoch')\n",
    "pyplot.legend(['train', 'validation'], loc='upper right')\n",
    "pyplot.show()"
   ]
  },
  {
   "cell_type": "markdown",
   "metadata": {},
   "source": [
    "**Generating Poems**"
   ]
  },
  {
   "cell_type": "code",
   "execution_count": 36,
   "metadata": {},
   "outputs": [],
   "source": [
    "def sample(preds, temperature=1.0):\n",
    "    \"\"\"Helper function to sample an index from a probability array.\"\"\"\n",
    "    preds = np.asarray(preds).astype('float64')\n",
    "    preds = np.exp(np.log(preds) / temperature)  # softmax\n",
    "    preds = preds / np.sum(preds)                #\n",
    "    probas = np.random.multinomial(1, preds, 1)  # sample index\n",
    "    return np.argmax(probas)  "
   ]
  },
  {
   "cell_type": "code",
   "execution_count": 48,
   "metadata": {},
   "outputs": [],
   "source": [
    "def generating_poem(poem_length, start_index, diversity, _):\n",
    "    \n",
    "    start_index = start_index\n",
    "    diversity = diversity\n",
    "\n",
    "    generated = ''\n",
    "    poemLines = sadPoems[start_index: start_index + seqlen]\n",
    "    generated += poemLines\n",
    "    print('----- Generating with seed: \"' + poemLines + '\"')\n",
    "    sys.stdout.write(generated)\n",
    "\n",
    "    for i in range(poem_length):\n",
    "        x_pred = np.zeros((1, seqlen, len(chars)))\n",
    "        for t, char in enumerate(poemLines):\n",
    "            x_pred[0, t, char_indices[char]] = 1.\n",
    "            \n",
    "        preds = model.predict(x_pred, verbose=0)\n",
    "        next_index = sample(preds[0, -1], diversity)\n",
    "        next_char = indices_char[next_index]\n",
    "\n",
    "        poemLines = poemLines[1:] + next_char\n",
    "\n",
    "        sys.stdout.write(next_char)\n",
    "        sys.stdout.flush()\n",
    "    print()"
   ]
  },
  {
   "cell_type": "code",
   "execution_count": 49,
   "metadata": {},
   "outputs": [
    {
     "name": "stdout",
     "output_type": "stream",
     "text": [
      "----- Generating with seed: \"things,\\r\\r\\npaper and paste, and love’s imaginings,\\r\\r\\n \\r\\r\\nbundles of peace, Christmas-blessed\"\n",
      "things,\\r\\r\\npaper and paste, and love’s imaginings,\\r\\r\\n \\r\\r\\nbundles of peace, Christmas-blessed that of the the bed the come of the recictle of the wanking the plastle the mender to be for the some the some sight a for a startered the were the creach of the chores on the could in in the warlen’s the face of the sone poon of the seart of you caring the wird. The widder the pour the were a door to mister of the bricked to a shaw with to me, lever sirst and the died from her words, the she wind the secking to be                                                                                 \n"
     ]
    }
   ],
   "source": [
    "randStart = 750\n",
    "generating_poem(500, randStart, .5, _)"
   ]
  },
  {
   "cell_type": "code",
   "execution_count": null,
   "metadata": {},
   "outputs": [],
   "source": []
  }
 ],
 "metadata": {
  "kernelspec": {
   "display_name": "Python 3",
   "language": "python",
   "name": "python3"
  },
  "language_info": {
   "codemirror_mode": {
    "name": "ipython",
    "version": 3
   },
   "file_extension": ".py",
   "mimetype": "text/x-python",
   "name": "python",
   "nbconvert_exporter": "python",
   "pygments_lexer": "ipython3",
   "version": "3.7.4"
  }
 },
 "nbformat": 4,
 "nbformat_minor": 2
}
